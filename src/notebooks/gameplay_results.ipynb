{
 "cells": [
  {
   "cell_type": "code",
   "execution_count": 1,
   "id": "21138404",
   "metadata": {},
   "outputs": [],
   "source": [
    "import pathlib\n",
    "import sys\n",
    "\n",
    "def _add_src_to_path():\n",
    "    src_path = str(pathlib.Path.cwd().parent.parent)\n",
    "    if src_path not in sys.path:\n",
    "        # sys.path.insert(0, str(pathlib.Path.cwd().parent.parent))\n",
    "        sys.path.append(str(pathlib.Path.cwd().parent.parent))\n",
    "\n",
    "_add_src_to_path()"
   ]
  },
  {
   "cell_type": "code",
   "execution_count": 2,
   "id": "c46fe401",
   "metadata": {},
   "outputs": [
    {
     "data": {
      "text/html": [
       "<div>\n",
       "<style scoped>\n",
       "    .dataframe tbody tr th:only-of-type {\n",
       "        vertical-align: middle;\n",
       "    }\n",
       "\n",
       "    .dataframe tbody tr th {\n",
       "        vertical-align: top;\n",
       "    }\n",
       "\n",
       "    .dataframe thead th {\n",
       "        text-align: right;\n",
       "    }\n",
       "</style>\n",
       "<table border=\"1\" class=\"dataframe\">\n",
       "  <thead>\n",
       "    <tr style=\"text-align: right;\">\n",
       "      <th></th>\n",
       "      <th>timestamp</th>\n",
       "      <th>board</th>\n",
       "      <th>error</th>\n",
       "      <th>ai_model</th>\n",
       "      <th>ai_whose_move</th>\n",
       "      <th>ai_move</th>\n",
       "      <th>duration_ms</th>\n",
       "      <th>move_num</th>\n",
       "      <th>eval</th>\n",
       "      <th>eval_comment</th>\n",
       "    </tr>\n",
       "  </thead>\n",
       "  <tbody>\n",
       "    <tr>\n",
       "      <th>0</th>\n",
       "      <td>1759983604</td>\n",
       "      <td>O..|.O.|X.X</td>\n",
       "      <td></td>\n",
       "      <td>OpenAI gpt-4.1</td>\n",
       "      <td>O</td>\n",
       "      <td>[O, ., ., ., O, X, X, ., X]</td>\n",
       "      <td>2029</td>\n",
       "      <td>4</td>\n",
       "      <td>BEST_MOVE</td>\n",
       "      <td>Continues to win. X wins in 2 moves.</td>\n",
       "    </tr>\n",
       "    <tr>\n",
       "      <th>1</th>\n",
       "      <td>1759983605</td>\n",
       "      <td>..X|..X|OO.</td>\n",
       "      <td></td>\n",
       "      <td>OpenAI gpt-4.1</td>\n",
       "      <td>O</td>\n",
       "      <td>[., ., X, ., X, X, O, O, .]</td>\n",
       "      <td>888</td>\n",
       "      <td>4</td>\n",
       "      <td>BLUNDER</td>\n",
       "      <td>Hands a won game to the opponent. O wins in 1 ...</td>\n",
       "    </tr>\n",
       "    <tr>\n",
       "      <th>2</th>\n",
       "      <td>1759983607</td>\n",
       "      <td>OX.|...|...</td>\n",
       "      <td></td>\n",
       "      <td>OpenAI gpt-4.1</td>\n",
       "      <td>O</td>\n",
       "      <td>[O, X, X, ., ., ., ., ., .]</td>\n",
       "      <td>1998</td>\n",
       "      <td>2</td>\n",
       "      <td>BLUNDER</td>\n",
       "      <td>Was draw, now opponent wins. O wins in 5 moves.</td>\n",
       "    </tr>\n",
       "    <tr>\n",
       "      <th>3</th>\n",
       "      <td>1759983608</td>\n",
       "      <td>XO.|XO.|..X</td>\n",
       "      <td></td>\n",
       "      <td>OpenAI gpt-4.1</td>\n",
       "      <td>ended</td>\n",
       "      <td>None</td>\n",
       "      <td>1815</td>\n",
       "      <td>5</td>\n",
       "      <td>ASSUMED_ENDED</td>\n",
       "      <td>Incorrectly determined that game ended.</td>\n",
       "    </tr>\n",
       "    <tr>\n",
       "      <th>4</th>\n",
       "      <td>1759983610</td>\n",
       "      <td>...|.O.|..X</td>\n",
       "      <td></td>\n",
       "      <td>OpenAI gpt-4.1</td>\n",
       "      <td>O</td>\n",
       "      <td>[., ., ., ., O, ., ., X, X]</td>\n",
       "      <td>1354</td>\n",
       "      <td>2</td>\n",
       "      <td>BEST_MOVE</td>\n",
       "      <td>Best move. Drawn position.</td>\n",
       "    </tr>\n",
       "    <tr>\n",
       "      <th>...</th>\n",
       "      <td>...</td>\n",
       "      <td>...</td>\n",
       "      <td>...</td>\n",
       "      <td>...</td>\n",
       "      <td>...</td>\n",
       "      <td>...</td>\n",
       "      <td>...</td>\n",
       "      <td>...</td>\n",
       "      <td>...</td>\n",
       "      <td>...</td>\n",
       "    </tr>\n",
       "    <tr>\n",
       "      <th>495</th>\n",
       "      <td>1760025490</td>\n",
       "      <td>...|..O|..X</td>\n",
       "      <td></td>\n",
       "      <td>OpenAI o3-mini</td>\n",
       "      <td>O</td>\n",
       "      <td>[., ., ., ., X, O, ., ., X]</td>\n",
       "      <td>12495</td>\n",
       "      <td>2</td>\n",
       "      <td>BEST_MOVE</td>\n",
       "      <td>Best move. X wins in 4 moves.</td>\n",
       "    </tr>\n",
       "    <tr>\n",
       "      <th>496</th>\n",
       "      <td>1760025497</td>\n",
       "      <td>...|...|X..</td>\n",
       "      <td></td>\n",
       "      <td>OpenAI o3-mini</td>\n",
       "      <td>X</td>\n",
       "      <td>[., ., ., ., O, ., X, ., .]</td>\n",
       "      <td>7104</td>\n",
       "      <td>1</td>\n",
       "      <td>BEST_MOVE</td>\n",
       "      <td>Best move. Drawn position.</td>\n",
       "    </tr>\n",
       "    <tr>\n",
       "      <th>497</th>\n",
       "      <td>1760025509</td>\n",
       "      <td>..X|...|.XO</td>\n",
       "      <td>illegal JSON</td>\n",
       "      <td>OpenAI o3-mini</td>\n",
       "      <td></td>\n",
       "      <td>None</td>\n",
       "      <td>11838</td>\n",
       "      <td>3</td>\n",
       "      <td>PARSE_ERROR</td>\n",
       "      <td>illegal JSON</td>\n",
       "    </tr>\n",
       "    <tr>\n",
       "      <th>498</th>\n",
       "      <td>1760025515</td>\n",
       "      <td>...|..X|...</td>\n",
       "      <td></td>\n",
       "      <td>OpenAI o3-mini</td>\n",
       "      <td>X</td>\n",
       "      <td>[., ., ., ., O, X, ., ., .]</td>\n",
       "      <td>6314</td>\n",
       "      <td>1</td>\n",
       "      <td>BEST_MOVE</td>\n",
       "      <td>Best move. Drawn position.</td>\n",
       "    </tr>\n",
       "    <tr>\n",
       "      <th>499</th>\n",
       "      <td>1760025526</td>\n",
       "      <td>OOX|XX.|..O</td>\n",
       "      <td>illegal JSON</td>\n",
       "      <td>OpenAI o3-mini</td>\n",
       "      <td></td>\n",
       "      <td>None</td>\n",
       "      <td>10273</td>\n",
       "      <td>6</td>\n",
       "      <td>PARSE_ERROR</td>\n",
       "      <td>illegal JSON</td>\n",
       "    </tr>\n",
       "  </tbody>\n",
       "</table>\n",
       "<p>500 rows × 10 columns</p>\n",
       "</div>"
      ],
      "text/plain": [
       "      timestamp        board         error        ai_model ai_whose_move  \\\n",
       "0    1759983604  O..|.O.|X.X                OpenAI gpt-4.1             O   \n",
       "1    1759983605  ..X|..X|OO.                OpenAI gpt-4.1             O   \n",
       "2    1759983607  OX.|...|...                OpenAI gpt-4.1             O   \n",
       "3    1759983608  XO.|XO.|..X                OpenAI gpt-4.1         ended   \n",
       "4    1759983610  ...|.O.|..X                OpenAI gpt-4.1             O   \n",
       "..          ...          ...           ...             ...           ...   \n",
       "495  1760025490  ...|..O|..X                OpenAI o3-mini             O   \n",
       "496  1760025497  ...|...|X..                OpenAI o3-mini             X   \n",
       "497  1760025509  ..X|...|.XO  illegal JSON  OpenAI o3-mini                 \n",
       "498  1760025515  ...|..X|...                OpenAI o3-mini             X   \n",
       "499  1760025526  OOX|XX.|..O  illegal JSON  OpenAI o3-mini                 \n",
       "\n",
       "                         ai_move  duration_ms  move_num           eval  \\\n",
       "0    [O, ., ., ., O, X, X, ., X]         2029         4      BEST_MOVE   \n",
       "1    [., ., X, ., X, X, O, O, .]          888         4        BLUNDER   \n",
       "2    [O, X, X, ., ., ., ., ., .]         1998         2        BLUNDER   \n",
       "3                           None         1815         5  ASSUMED_ENDED   \n",
       "4    [., ., ., ., O, ., ., X, X]         1354         2      BEST_MOVE   \n",
       "..                           ...          ...       ...            ...   \n",
       "495  [., ., ., ., X, O, ., ., X]        12495         2      BEST_MOVE   \n",
       "496  [., ., ., ., O, ., X, ., .]         7104         1      BEST_MOVE   \n",
       "497                         None        11838         3    PARSE_ERROR   \n",
       "498  [., ., ., ., O, X, ., ., .]         6314         1      BEST_MOVE   \n",
       "499                         None        10273         6    PARSE_ERROR   \n",
       "\n",
       "                                          eval_comment  \n",
       "0                 Continues to win. X wins in 2 moves.  \n",
       "1    Hands a won game to the opponent. O wins in 1 ...  \n",
       "2      Was draw, now opponent wins. O wins in 5 moves.  \n",
       "3              Incorrectly determined that game ended.  \n",
       "4                           Best move. Drawn position.  \n",
       "..                                                 ...  \n",
       "495                      Best move. X wins in 4 moves.  \n",
       "496                         Best move. Drawn position.  \n",
       "497                                       illegal JSON  \n",
       "498                         Best move. Drawn position.  \n",
       "499                                       illegal JSON  \n",
       "\n",
       "[500 rows x 10 columns]"
      ]
     },
     "execution_count": 2,
     "metadata": {},
     "output_type": "execute_result"
    }
   ],
   "source": [
    "import pandas as pd\n",
    "\n",
    "from src.llm_experiments import data_analysis_util\n",
    "\n",
    "from src.ttt import ttt_board\n",
    "\n",
    "\n",
    "def do_analysis():\n",
    "    analyzer = data_analysis_util.DataAnalyzer()\n",
    "    results: list[dict[str, str | int]] = []\n",
    "    for data in data_analysis_util.data_iterator():\n",
    "        results.append(data.model_dump())\n",
    "        eval, eval_msg = analyzer.analyse(data)\n",
    "        board = ttt_board.BoardState.from_array(data.board)\n",
    "        results[-1].update(\n",
    "            {\"move_num\": board.move_count, \"eval\": eval.name, \"eval_comment\": eval_msg}\n",
    "        )\n",
    "    df = pd.DataFrame(results)\n",
    "    return df\n",
    "\n",
    "\n",
    "_DF = do_analysis()\n",
    "_DF"
   ]
  },
  {
   "cell_type": "code",
   "execution_count": 3,
   "id": "7f0d67c7",
   "metadata": {},
   "outputs": [
    {
     "name": "stdout",
     "output_type": "stream",
     "text": [
      "['BEST_MOVE', 'GOOD_MOVE']\n",
      "['INVALID_BOARD', 'ASSUMED_ENDED', 'PARSE_ERROR', 'BLUNDER', 'ILLEGAL_MOVE']\n"
     ]
    },
    {
     "data": {
      "application/vnd.plotly.v1+json": {
       "config": {
        "plotlyServerURL": "https://plot.ly"
       },
       "data": [
        {
         "hovertemplate": "Move Evaluation Legend:=BEST_MOVE<br># Tic-tac-toe Positions Queried=%{x}<br>Model=%{y}<extra></extra>",
         "legendgroup": "BEST_MOVE",
         "marker": {
          "color": "#0000ff",
          "pattern": {
           "shape": ""
          }
         },
         "name": "BEST_MOVE",
         "orientation": "h",
         "showlegend": true,
         "textposition": "auto",
         "type": "bar",
         "x": {
          "bdata": "FiJDIRQ=",
          "dtype": "i1"
         },
         "xaxis": "x",
         "y": [
          "OpenAI gpt-3.5-turbo",
          "OpenAI gpt-4.1",
          "OpenAI o3",
          "OpenAI o3-mini",
          "Random"
         ],
         "yaxis": "y"
        },
        {
         "hovertemplate": "Move Evaluation Legend:=GOOD_MOVE<br># Tic-tac-toe Positions Queried=%{x}<br>Model=%{y}<extra></extra>",
         "legendgroup": "GOOD_MOVE",
         "marker": {
          "color": "#2F94FF",
          "pattern": {
           "shape": ""
          }
         },
         "name": "GOOD_MOVE",
         "orientation": "h",
         "showlegend": true,
         "textposition": "auto",
         "type": "bar",
         "x": {
          "bdata": "BAED",
          "dtype": "i1"
         },
         "xaxis": "x",
         "y": [
          "OpenAI gpt-3.5-turbo",
          "OpenAI o3-mini",
          "Random"
         ],
         "yaxis": "y"
        },
        {
         "hovertemplate": "Move Evaluation Legend:=BLUNDER<br># Tic-tac-toe Positions Queried=%{x}<br>Model=%{y}<extra></extra>",
         "legendgroup": "BLUNDER",
         "marker": {
          "color": "rgb(165,0,38)",
          "pattern": {
           "shape": ""
          }
         },
         "name": "BLUNDER",
         "orientation": "h",
         "showlegend": true,
         "textposition": "auto",
         "type": "bar",
         "x": {
          "bdata": "GRMIChs=",
          "dtype": "i1"
         },
         "xaxis": "x",
         "y": [
          "OpenAI gpt-3.5-turbo",
          "OpenAI gpt-4.1",
          "OpenAI o3",
          "OpenAI o3-mini",
          "Random"
         ],
         "yaxis": "y"
        },
        {
         "hovertemplate": "Move Evaluation Legend:=ILLEGAL_MOVE<br># Tic-tac-toe Positions Queried=%{x}<br>Model=%{y}<extra></extra>",
         "legendgroup": "ILLEGAL_MOVE",
         "marker": {
          "color": "rgb(215,48,39)",
          "pattern": {
           "shape": ""
          }
         },
         "name": "ILLEGAL_MOVE",
         "orientation": "h",
         "showlegend": true,
         "textposition": "auto",
         "type": "bar",
         "x": {
          "bdata": "DA==",
          "dtype": "i1"
         },
         "xaxis": "x",
         "y": [
          "OpenAI gpt-3.5-turbo"
         ],
         "yaxis": "y"
        },
        {
         "hovertemplate": "Move Evaluation Legend:=ASSUMED_ENDED<br># Tic-tac-toe Positions Queried=%{x}<br>Model=%{y}<extra></extra>",
         "legendgroup": "ASSUMED_ENDED",
         "marker": {
          "color": "rgb(244,109,67)",
          "pattern": {
           "shape": ""
          }
         },
         "name": "ASSUMED_ENDED",
         "orientation": "h",
         "showlegend": true,
         "textposition": "auto",
         "type": "bar",
         "x": {
          "bdata": "BBUYBQ==",
          "dtype": "i1"
         },
         "xaxis": "x",
         "y": [
          "OpenAI gpt-3.5-turbo",
          "OpenAI gpt-4.1",
          "OpenAI o3",
          "OpenAI o3-mini"
         ],
         "yaxis": "y"
        },
        {
         "hovertemplate": "Move Evaluation Legend:=INVALID_BOARD<br># Tic-tac-toe Positions Queried=%{x}<br>Model=%{y}<extra></extra>",
         "legendgroup": "INVALID_BOARD",
         "marker": {
          "color": "rgb(253,174,97)",
          "pattern": {
           "shape": ""
          }
         },
         "name": "INVALID_BOARD",
         "orientation": "h",
         "showlegend": true,
         "textposition": "auto",
         "type": "bar",
         "x": {
          "bdata": "FBoBMg==",
          "dtype": "i1"
         },
         "xaxis": "x",
         "y": [
          "OpenAI gpt-3.5-turbo",
          "OpenAI gpt-4.1",
          "OpenAI o3",
          "Random"
         ],
         "yaxis": "y"
        },
        {
         "hovertemplate": "Move Evaluation Legend:=PARSE_ERROR<br># Tic-tac-toe Positions Queried=%{x}<br>Model=%{y}<extra></extra>",
         "legendgroup": "PARSE_ERROR",
         "marker": {
          "color": "rgb(254,224,139)",
          "pattern": {
           "shape": ""
          }
         },
         "name": "PARSE_ERROR",
         "orientation": "h",
         "showlegend": true,
         "textposition": "auto",
         "type": "bar",
         "x": {
          "bdata": "DTM=",
          "dtype": "i1"
         },
         "xaxis": "x",
         "y": [
          "OpenAI gpt-3.5-turbo",
          "OpenAI o3-mini"
         ],
         "yaxis": "y"
        }
       ],
       "layout": {
        "barmode": "relative",
        "height": 330,
        "legend": {
         "title": {
          "text": "Move Evaluation Legend:"
         },
         "tracegroupgap": 0
        },
        "margin": {
         "t": 60
        },
        "paper_bgcolor": "white",
        "plot_bgcolor": "white",
        "template": {
         "data": {
          "bar": [
           {
            "error_x": {
             "color": "#2a3f5f"
            },
            "error_y": {
             "color": "#2a3f5f"
            },
            "marker": {
             "line": {
              "color": "#E5ECF6",
              "width": 0.5
             },
             "pattern": {
              "fillmode": "overlay",
              "size": 10,
              "solidity": 0.2
             }
            },
            "type": "bar"
           }
          ],
          "barpolar": [
           {
            "marker": {
             "line": {
              "color": "#E5ECF6",
              "width": 0.5
             },
             "pattern": {
              "fillmode": "overlay",
              "size": 10,
              "solidity": 0.2
             }
            },
            "type": "barpolar"
           }
          ],
          "carpet": [
           {
            "aaxis": {
             "endlinecolor": "#2a3f5f",
             "gridcolor": "white",
             "linecolor": "white",
             "minorgridcolor": "white",
             "startlinecolor": "#2a3f5f"
            },
            "baxis": {
             "endlinecolor": "#2a3f5f",
             "gridcolor": "white",
             "linecolor": "white",
             "minorgridcolor": "white",
             "startlinecolor": "#2a3f5f"
            },
            "type": "carpet"
           }
          ],
          "choropleth": [
           {
            "colorbar": {
             "outlinewidth": 0,
             "ticks": ""
            },
            "type": "choropleth"
           }
          ],
          "contour": [
           {
            "colorbar": {
             "outlinewidth": 0,
             "ticks": ""
            },
            "colorscale": [
             [
              0,
              "#0d0887"
             ],
             [
              0.1111111111111111,
              "#46039f"
             ],
             [
              0.2222222222222222,
              "#7201a8"
             ],
             [
              0.3333333333333333,
              "#9c179e"
             ],
             [
              0.4444444444444444,
              "#bd3786"
             ],
             [
              0.5555555555555556,
              "#d8576b"
             ],
             [
              0.6666666666666666,
              "#ed7953"
             ],
             [
              0.7777777777777778,
              "#fb9f3a"
             ],
             [
              0.8888888888888888,
              "#fdca26"
             ],
             [
              1,
              "#f0f921"
             ]
            ],
            "type": "contour"
           }
          ],
          "contourcarpet": [
           {
            "colorbar": {
             "outlinewidth": 0,
             "ticks": ""
            },
            "type": "contourcarpet"
           }
          ],
          "heatmap": [
           {
            "colorbar": {
             "outlinewidth": 0,
             "ticks": ""
            },
            "colorscale": [
             [
              0,
              "#0d0887"
             ],
             [
              0.1111111111111111,
              "#46039f"
             ],
             [
              0.2222222222222222,
              "#7201a8"
             ],
             [
              0.3333333333333333,
              "#9c179e"
             ],
             [
              0.4444444444444444,
              "#bd3786"
             ],
             [
              0.5555555555555556,
              "#d8576b"
             ],
             [
              0.6666666666666666,
              "#ed7953"
             ],
             [
              0.7777777777777778,
              "#fb9f3a"
             ],
             [
              0.8888888888888888,
              "#fdca26"
             ],
             [
              1,
              "#f0f921"
             ]
            ],
            "type": "heatmap"
           }
          ],
          "histogram": [
           {
            "marker": {
             "pattern": {
              "fillmode": "overlay",
              "size": 10,
              "solidity": 0.2
             }
            },
            "type": "histogram"
           }
          ],
          "histogram2d": [
           {
            "colorbar": {
             "outlinewidth": 0,
             "ticks": ""
            },
            "colorscale": [
             [
              0,
              "#0d0887"
             ],
             [
              0.1111111111111111,
              "#46039f"
             ],
             [
              0.2222222222222222,
              "#7201a8"
             ],
             [
              0.3333333333333333,
              "#9c179e"
             ],
             [
              0.4444444444444444,
              "#bd3786"
             ],
             [
              0.5555555555555556,
              "#d8576b"
             ],
             [
              0.6666666666666666,
              "#ed7953"
             ],
             [
              0.7777777777777778,
              "#fb9f3a"
             ],
             [
              0.8888888888888888,
              "#fdca26"
             ],
             [
              1,
              "#f0f921"
             ]
            ],
            "type": "histogram2d"
           }
          ],
          "histogram2dcontour": [
           {
            "colorbar": {
             "outlinewidth": 0,
             "ticks": ""
            },
            "colorscale": [
             [
              0,
              "#0d0887"
             ],
             [
              0.1111111111111111,
              "#46039f"
             ],
             [
              0.2222222222222222,
              "#7201a8"
             ],
             [
              0.3333333333333333,
              "#9c179e"
             ],
             [
              0.4444444444444444,
              "#bd3786"
             ],
             [
              0.5555555555555556,
              "#d8576b"
             ],
             [
              0.6666666666666666,
              "#ed7953"
             ],
             [
              0.7777777777777778,
              "#fb9f3a"
             ],
             [
              0.8888888888888888,
              "#fdca26"
             ],
             [
              1,
              "#f0f921"
             ]
            ],
            "type": "histogram2dcontour"
           }
          ],
          "mesh3d": [
           {
            "colorbar": {
             "outlinewidth": 0,
             "ticks": ""
            },
            "type": "mesh3d"
           }
          ],
          "parcoords": [
           {
            "line": {
             "colorbar": {
              "outlinewidth": 0,
              "ticks": ""
             }
            },
            "type": "parcoords"
           }
          ],
          "pie": [
           {
            "automargin": true,
            "type": "pie"
           }
          ],
          "scatter": [
           {
            "fillpattern": {
             "fillmode": "overlay",
             "size": 10,
             "solidity": 0.2
            },
            "type": "scatter"
           }
          ],
          "scatter3d": [
           {
            "line": {
             "colorbar": {
              "outlinewidth": 0,
              "ticks": ""
             }
            },
            "marker": {
             "colorbar": {
              "outlinewidth": 0,
              "ticks": ""
             }
            },
            "type": "scatter3d"
           }
          ],
          "scattercarpet": [
           {
            "marker": {
             "colorbar": {
              "outlinewidth": 0,
              "ticks": ""
             }
            },
            "type": "scattercarpet"
           }
          ],
          "scattergeo": [
           {
            "marker": {
             "colorbar": {
              "outlinewidth": 0,
              "ticks": ""
             }
            },
            "type": "scattergeo"
           }
          ],
          "scattergl": [
           {
            "marker": {
             "colorbar": {
              "outlinewidth": 0,
              "ticks": ""
             }
            },
            "type": "scattergl"
           }
          ],
          "scattermap": [
           {
            "marker": {
             "colorbar": {
              "outlinewidth": 0,
              "ticks": ""
             }
            },
            "type": "scattermap"
           }
          ],
          "scattermapbox": [
           {
            "marker": {
             "colorbar": {
              "outlinewidth": 0,
              "ticks": ""
             }
            },
            "type": "scattermapbox"
           }
          ],
          "scatterpolar": [
           {
            "marker": {
             "colorbar": {
              "outlinewidth": 0,
              "ticks": ""
             }
            },
            "type": "scatterpolar"
           }
          ],
          "scatterpolargl": [
           {
            "marker": {
             "colorbar": {
              "outlinewidth": 0,
              "ticks": ""
             }
            },
            "type": "scatterpolargl"
           }
          ],
          "scatterternary": [
           {
            "marker": {
             "colorbar": {
              "outlinewidth": 0,
              "ticks": ""
             }
            },
            "type": "scatterternary"
           }
          ],
          "surface": [
           {
            "colorbar": {
             "outlinewidth": 0,
             "ticks": ""
            },
            "colorscale": [
             [
              0,
              "#0d0887"
             ],
             [
              0.1111111111111111,
              "#46039f"
             ],
             [
              0.2222222222222222,
              "#7201a8"
             ],
             [
              0.3333333333333333,
              "#9c179e"
             ],
             [
              0.4444444444444444,
              "#bd3786"
             ],
             [
              0.5555555555555556,
              "#d8576b"
             ],
             [
              0.6666666666666666,
              "#ed7953"
             ],
             [
              0.7777777777777778,
              "#fb9f3a"
             ],
             [
              0.8888888888888888,
              "#fdca26"
             ],
             [
              1,
              "#f0f921"
             ]
            ],
            "type": "surface"
           }
          ],
          "table": [
           {
            "cells": {
             "fill": {
              "color": "#EBF0F8"
             },
             "line": {
              "color": "white"
             }
            },
            "header": {
             "fill": {
              "color": "#C8D4E3"
             },
             "line": {
              "color": "white"
             }
            },
            "type": "table"
           }
          ]
         },
         "layout": {
          "annotationdefaults": {
           "arrowcolor": "#2a3f5f",
           "arrowhead": 0,
           "arrowwidth": 1
          },
          "autotypenumbers": "strict",
          "coloraxis": {
           "colorbar": {
            "outlinewidth": 0,
            "ticks": ""
           }
          },
          "colorscale": {
           "diverging": [
            [
             0,
             "#8e0152"
            ],
            [
             0.1,
             "#c51b7d"
            ],
            [
             0.2,
             "#de77ae"
            ],
            [
             0.3,
             "#f1b6da"
            ],
            [
             0.4,
             "#fde0ef"
            ],
            [
             0.5,
             "#f7f7f7"
            ],
            [
             0.6,
             "#e6f5d0"
            ],
            [
             0.7,
             "#b8e186"
            ],
            [
             0.8,
             "#7fbc41"
            ],
            [
             0.9,
             "#4d9221"
            ],
            [
             1,
             "#276419"
            ]
           ],
           "sequential": [
            [
             0,
             "#0d0887"
            ],
            [
             0.1111111111111111,
             "#46039f"
            ],
            [
             0.2222222222222222,
             "#7201a8"
            ],
            [
             0.3333333333333333,
             "#9c179e"
            ],
            [
             0.4444444444444444,
             "#bd3786"
            ],
            [
             0.5555555555555556,
             "#d8576b"
            ],
            [
             0.6666666666666666,
             "#ed7953"
            ],
            [
             0.7777777777777778,
             "#fb9f3a"
            ],
            [
             0.8888888888888888,
             "#fdca26"
            ],
            [
             1,
             "#f0f921"
            ]
           ],
           "sequentialminus": [
            [
             0,
             "#0d0887"
            ],
            [
             0.1111111111111111,
             "#46039f"
            ],
            [
             0.2222222222222222,
             "#7201a8"
            ],
            [
             0.3333333333333333,
             "#9c179e"
            ],
            [
             0.4444444444444444,
             "#bd3786"
            ],
            [
             0.5555555555555556,
             "#d8576b"
            ],
            [
             0.6666666666666666,
             "#ed7953"
            ],
            [
             0.7777777777777778,
             "#fb9f3a"
            ],
            [
             0.8888888888888888,
             "#fdca26"
            ],
            [
             1,
             "#f0f921"
            ]
           ]
          },
          "colorway": [
           "#636efa",
           "#EF553B",
           "#00cc96",
           "#ab63fa",
           "#FFA15A",
           "#19d3f3",
           "#FF6692",
           "#B6E880",
           "#FF97FF",
           "#FECB52"
          ],
          "font": {
           "color": "#2a3f5f"
          },
          "geo": {
           "bgcolor": "white",
           "lakecolor": "white",
           "landcolor": "#E5ECF6",
           "showlakes": true,
           "showland": true,
           "subunitcolor": "white"
          },
          "hoverlabel": {
           "align": "left"
          },
          "hovermode": "closest",
          "mapbox": {
           "style": "light"
          },
          "paper_bgcolor": "white",
          "plot_bgcolor": "#E5ECF6",
          "polar": {
           "angularaxis": {
            "gridcolor": "white",
            "linecolor": "white",
            "ticks": ""
           },
           "bgcolor": "#E5ECF6",
           "radialaxis": {
            "gridcolor": "white",
            "linecolor": "white",
            "ticks": ""
           }
          },
          "scene": {
           "xaxis": {
            "backgroundcolor": "#E5ECF6",
            "gridcolor": "white",
            "gridwidth": 2,
            "linecolor": "white",
            "showbackground": true,
            "ticks": "",
            "zerolinecolor": "white"
           },
           "yaxis": {
            "backgroundcolor": "#E5ECF6",
            "gridcolor": "white",
            "gridwidth": 2,
            "linecolor": "white",
            "showbackground": true,
            "ticks": "",
            "zerolinecolor": "white"
           },
           "zaxis": {
            "backgroundcolor": "#E5ECF6",
            "gridcolor": "white",
            "gridwidth": 2,
            "linecolor": "white",
            "showbackground": true,
            "ticks": "",
            "zerolinecolor": "white"
           }
          },
          "shapedefaults": {
           "line": {
            "color": "#2a3f5f"
           }
          },
          "ternary": {
           "aaxis": {
            "gridcolor": "white",
            "linecolor": "white",
            "ticks": ""
           },
           "baxis": {
            "gridcolor": "white",
            "linecolor": "white",
            "ticks": ""
           },
           "bgcolor": "#E5ECF6",
           "caxis": {
            "gridcolor": "white",
            "linecolor": "white",
            "ticks": ""
           }
          },
          "title": {
           "x": 0.05
          },
          "xaxis": {
           "automargin": true,
           "gridcolor": "white",
           "linecolor": "white",
           "ticks": "",
           "title": {
            "standoff": 15
           },
           "zerolinecolor": "white",
           "zerolinewidth": 2
          },
          "yaxis": {
           "automargin": true,
           "gridcolor": "white",
           "linecolor": "white",
           "ticks": "",
           "title": {
            "standoff": 15
           },
           "zerolinecolor": "white",
           "zerolinewidth": 2
          }
         }
        },
        "width": 800,
        "xaxis": {
         "anchor": "y",
         "domain": [
          0,
          1
         ],
         "showgrid": false,
         "title": {
          "text": "# Tic-tac-toe Positions Queried"
         }
        },
        "yaxis": {
         "anchor": "x",
         "categoryarray": [
          "OpenAI o3",
          "OpenAI o3-mini",
          "OpenAI gpt-4.1",
          "OpenAI gpt-3.5-turbo"
         ],
         "categoryorder": "array",
         "domain": [
          0,
          1
         ],
         "showgrid": false,
         "title": {
          "text": "Model"
         }
        }
       }
      }
     },
     "metadata": {},
     "output_type": "display_data"
    },
    {
     "data": {
      "application/vnd.plotly.v1+json": {
       "config": {
        "plotlyServerURL": "https://plot.ly"
       },
       "data": [
        {
         "hovertemplate": "Average Response Latency (s)=%{x}<br>Model=%{y}<extra></extra>",
         "legendgroup": "",
         "marker": {
          "color": "gray",
          "pattern": {
           "shape": ""
          }
         },
         "name": "",
         "orientation": "h",
         "showlegend": false,
         "textposition": "auto",
         "type": "bar",
         "x": {
          "bdata": "RkJbzqU48D+KyLCKNzLyP3zVyoRf+itAYRVvZB65I0AAAAAAAAAAAA==",
          "dtype": "f8"
         },
         "xaxis": "x",
         "y": [
          "OpenAI gpt-3.5-turbo",
          "OpenAI gpt-4.1",
          "OpenAI o3",
          "OpenAI o3-mini",
          "Random"
         ],
         "yaxis": "y"
        }
       ],
       "layout": {
        "bargap": 0.6,
        "barmode": "relative",
        "height": 320,
        "legend": {
         "tracegroupgap": 0
        },
        "margin": {
         "t": 60
        },
        "paper_bgcolor": "white",
        "plot_bgcolor": "lightgray",
        "template": {
         "data": {
          "bar": [
           {
            "error_x": {
             "color": "#2a3f5f"
            },
            "error_y": {
             "color": "#2a3f5f"
            },
            "marker": {
             "line": {
              "color": "#E5ECF6",
              "width": 0.5
             },
             "pattern": {
              "fillmode": "overlay",
              "size": 10,
              "solidity": 0.2
             }
            },
            "type": "bar"
           }
          ],
          "barpolar": [
           {
            "marker": {
             "line": {
              "color": "#E5ECF6",
              "width": 0.5
             },
             "pattern": {
              "fillmode": "overlay",
              "size": 10,
              "solidity": 0.2
             }
            },
            "type": "barpolar"
           }
          ],
          "carpet": [
           {
            "aaxis": {
             "endlinecolor": "#2a3f5f",
             "gridcolor": "white",
             "linecolor": "white",
             "minorgridcolor": "white",
             "startlinecolor": "#2a3f5f"
            },
            "baxis": {
             "endlinecolor": "#2a3f5f",
             "gridcolor": "white",
             "linecolor": "white",
             "minorgridcolor": "white",
             "startlinecolor": "#2a3f5f"
            },
            "type": "carpet"
           }
          ],
          "choropleth": [
           {
            "colorbar": {
             "outlinewidth": 0,
             "ticks": ""
            },
            "type": "choropleth"
           }
          ],
          "contour": [
           {
            "colorbar": {
             "outlinewidth": 0,
             "ticks": ""
            },
            "colorscale": [
             [
              0,
              "#0d0887"
             ],
             [
              0.1111111111111111,
              "#46039f"
             ],
             [
              0.2222222222222222,
              "#7201a8"
             ],
             [
              0.3333333333333333,
              "#9c179e"
             ],
             [
              0.4444444444444444,
              "#bd3786"
             ],
             [
              0.5555555555555556,
              "#d8576b"
             ],
             [
              0.6666666666666666,
              "#ed7953"
             ],
             [
              0.7777777777777778,
              "#fb9f3a"
             ],
             [
              0.8888888888888888,
              "#fdca26"
             ],
             [
              1,
              "#f0f921"
             ]
            ],
            "type": "contour"
           }
          ],
          "contourcarpet": [
           {
            "colorbar": {
             "outlinewidth": 0,
             "ticks": ""
            },
            "type": "contourcarpet"
           }
          ],
          "heatmap": [
           {
            "colorbar": {
             "outlinewidth": 0,
             "ticks": ""
            },
            "colorscale": [
             [
              0,
              "#0d0887"
             ],
             [
              0.1111111111111111,
              "#46039f"
             ],
             [
              0.2222222222222222,
              "#7201a8"
             ],
             [
              0.3333333333333333,
              "#9c179e"
             ],
             [
              0.4444444444444444,
              "#bd3786"
             ],
             [
              0.5555555555555556,
              "#d8576b"
             ],
             [
              0.6666666666666666,
              "#ed7953"
             ],
             [
              0.7777777777777778,
              "#fb9f3a"
             ],
             [
              0.8888888888888888,
              "#fdca26"
             ],
             [
              1,
              "#f0f921"
             ]
            ],
            "type": "heatmap"
           }
          ],
          "histogram": [
           {
            "marker": {
             "pattern": {
              "fillmode": "overlay",
              "size": 10,
              "solidity": 0.2
             }
            },
            "type": "histogram"
           }
          ],
          "histogram2d": [
           {
            "colorbar": {
             "outlinewidth": 0,
             "ticks": ""
            },
            "colorscale": [
             [
              0,
              "#0d0887"
             ],
             [
              0.1111111111111111,
              "#46039f"
             ],
             [
              0.2222222222222222,
              "#7201a8"
             ],
             [
              0.3333333333333333,
              "#9c179e"
             ],
             [
              0.4444444444444444,
              "#bd3786"
             ],
             [
              0.5555555555555556,
              "#d8576b"
             ],
             [
              0.6666666666666666,
              "#ed7953"
             ],
             [
              0.7777777777777778,
              "#fb9f3a"
             ],
             [
              0.8888888888888888,
              "#fdca26"
             ],
             [
              1,
              "#f0f921"
             ]
            ],
            "type": "histogram2d"
           }
          ],
          "histogram2dcontour": [
           {
            "colorbar": {
             "outlinewidth": 0,
             "ticks": ""
            },
            "colorscale": [
             [
              0,
              "#0d0887"
             ],
             [
              0.1111111111111111,
              "#46039f"
             ],
             [
              0.2222222222222222,
              "#7201a8"
             ],
             [
              0.3333333333333333,
              "#9c179e"
             ],
             [
              0.4444444444444444,
              "#bd3786"
             ],
             [
              0.5555555555555556,
              "#d8576b"
             ],
             [
              0.6666666666666666,
              "#ed7953"
             ],
             [
              0.7777777777777778,
              "#fb9f3a"
             ],
             [
              0.8888888888888888,
              "#fdca26"
             ],
             [
              1,
              "#f0f921"
             ]
            ],
            "type": "histogram2dcontour"
           }
          ],
          "mesh3d": [
           {
            "colorbar": {
             "outlinewidth": 0,
             "ticks": ""
            },
            "type": "mesh3d"
           }
          ],
          "parcoords": [
           {
            "line": {
             "colorbar": {
              "outlinewidth": 0,
              "ticks": ""
             }
            },
            "type": "parcoords"
           }
          ],
          "pie": [
           {
            "automargin": true,
            "type": "pie"
           }
          ],
          "scatter": [
           {
            "fillpattern": {
             "fillmode": "overlay",
             "size": 10,
             "solidity": 0.2
            },
            "type": "scatter"
           }
          ],
          "scatter3d": [
           {
            "line": {
             "colorbar": {
              "outlinewidth": 0,
              "ticks": ""
             }
            },
            "marker": {
             "colorbar": {
              "outlinewidth": 0,
              "ticks": ""
             }
            },
            "type": "scatter3d"
           }
          ],
          "scattercarpet": [
           {
            "marker": {
             "colorbar": {
              "outlinewidth": 0,
              "ticks": ""
             }
            },
            "type": "scattercarpet"
           }
          ],
          "scattergeo": [
           {
            "marker": {
             "colorbar": {
              "outlinewidth": 0,
              "ticks": ""
             }
            },
            "type": "scattergeo"
           }
          ],
          "scattergl": [
           {
            "marker": {
             "colorbar": {
              "outlinewidth": 0,
              "ticks": ""
             }
            },
            "type": "scattergl"
           }
          ],
          "scattermap": [
           {
            "marker": {
             "colorbar": {
              "outlinewidth": 0,
              "ticks": ""
             }
            },
            "type": "scattermap"
           }
          ],
          "scattermapbox": [
           {
            "marker": {
             "colorbar": {
              "outlinewidth": 0,
              "ticks": ""
             }
            },
            "type": "scattermapbox"
           }
          ],
          "scatterpolar": [
           {
            "marker": {
             "colorbar": {
              "outlinewidth": 0,
              "ticks": ""
             }
            },
            "type": "scatterpolar"
           }
          ],
          "scatterpolargl": [
           {
            "marker": {
             "colorbar": {
              "outlinewidth": 0,
              "ticks": ""
             }
            },
            "type": "scatterpolargl"
           }
          ],
          "scatterternary": [
           {
            "marker": {
             "colorbar": {
              "outlinewidth": 0,
              "ticks": ""
             }
            },
            "type": "scatterternary"
           }
          ],
          "surface": [
           {
            "colorbar": {
             "outlinewidth": 0,
             "ticks": ""
            },
            "colorscale": [
             [
              0,
              "#0d0887"
             ],
             [
              0.1111111111111111,
              "#46039f"
             ],
             [
              0.2222222222222222,
              "#7201a8"
             ],
             [
              0.3333333333333333,
              "#9c179e"
             ],
             [
              0.4444444444444444,
              "#bd3786"
             ],
             [
              0.5555555555555556,
              "#d8576b"
             ],
             [
              0.6666666666666666,
              "#ed7953"
             ],
             [
              0.7777777777777778,
              "#fb9f3a"
             ],
             [
              0.8888888888888888,
              "#fdca26"
             ],
             [
              1,
              "#f0f921"
             ]
            ],
            "type": "surface"
           }
          ],
          "table": [
           {
            "cells": {
             "fill": {
              "color": "#EBF0F8"
             },
             "line": {
              "color": "white"
             }
            },
            "header": {
             "fill": {
              "color": "#C8D4E3"
             },
             "line": {
              "color": "white"
             }
            },
            "type": "table"
           }
          ]
         },
         "layout": {
          "annotationdefaults": {
           "arrowcolor": "#2a3f5f",
           "arrowhead": 0,
           "arrowwidth": 1
          },
          "autotypenumbers": "strict",
          "coloraxis": {
           "colorbar": {
            "outlinewidth": 0,
            "ticks": ""
           }
          },
          "colorscale": {
           "diverging": [
            [
             0,
             "#8e0152"
            ],
            [
             0.1,
             "#c51b7d"
            ],
            [
             0.2,
             "#de77ae"
            ],
            [
             0.3,
             "#f1b6da"
            ],
            [
             0.4,
             "#fde0ef"
            ],
            [
             0.5,
             "#f7f7f7"
            ],
            [
             0.6,
             "#e6f5d0"
            ],
            [
             0.7,
             "#b8e186"
            ],
            [
             0.8,
             "#7fbc41"
            ],
            [
             0.9,
             "#4d9221"
            ],
            [
             1,
             "#276419"
            ]
           ],
           "sequential": [
            [
             0,
             "#0d0887"
            ],
            [
             0.1111111111111111,
             "#46039f"
            ],
            [
             0.2222222222222222,
             "#7201a8"
            ],
            [
             0.3333333333333333,
             "#9c179e"
            ],
            [
             0.4444444444444444,
             "#bd3786"
            ],
            [
             0.5555555555555556,
             "#d8576b"
            ],
            [
             0.6666666666666666,
             "#ed7953"
            ],
            [
             0.7777777777777778,
             "#fb9f3a"
            ],
            [
             0.8888888888888888,
             "#fdca26"
            ],
            [
             1,
             "#f0f921"
            ]
           ],
           "sequentialminus": [
            [
             0,
             "#0d0887"
            ],
            [
             0.1111111111111111,
             "#46039f"
            ],
            [
             0.2222222222222222,
             "#7201a8"
            ],
            [
             0.3333333333333333,
             "#9c179e"
            ],
            [
             0.4444444444444444,
             "#bd3786"
            ],
            [
             0.5555555555555556,
             "#d8576b"
            ],
            [
             0.6666666666666666,
             "#ed7953"
            ],
            [
             0.7777777777777778,
             "#fb9f3a"
            ],
            [
             0.8888888888888888,
             "#fdca26"
            ],
            [
             1,
             "#f0f921"
            ]
           ]
          },
          "colorway": [
           "#636efa",
           "#EF553B",
           "#00cc96",
           "#ab63fa",
           "#FFA15A",
           "#19d3f3",
           "#FF6692",
           "#B6E880",
           "#FF97FF",
           "#FECB52"
          ],
          "font": {
           "color": "#2a3f5f"
          },
          "geo": {
           "bgcolor": "white",
           "lakecolor": "white",
           "landcolor": "#E5ECF6",
           "showlakes": true,
           "showland": true,
           "subunitcolor": "white"
          },
          "hoverlabel": {
           "align": "left"
          },
          "hovermode": "closest",
          "mapbox": {
           "style": "light"
          },
          "paper_bgcolor": "white",
          "plot_bgcolor": "#E5ECF6",
          "polar": {
           "angularaxis": {
            "gridcolor": "white",
            "linecolor": "white",
            "ticks": ""
           },
           "bgcolor": "#E5ECF6",
           "radialaxis": {
            "gridcolor": "white",
            "linecolor": "white",
            "ticks": ""
           }
          },
          "scene": {
           "xaxis": {
            "backgroundcolor": "#E5ECF6",
            "gridcolor": "white",
            "gridwidth": 2,
            "linecolor": "white",
            "showbackground": true,
            "ticks": "",
            "zerolinecolor": "white"
           },
           "yaxis": {
            "backgroundcolor": "#E5ECF6",
            "gridcolor": "white",
            "gridwidth": 2,
            "linecolor": "white",
            "showbackground": true,
            "ticks": "",
            "zerolinecolor": "white"
           },
           "zaxis": {
            "backgroundcolor": "#E5ECF6",
            "gridcolor": "white",
            "gridwidth": 2,
            "linecolor": "white",
            "showbackground": true,
            "ticks": "",
            "zerolinecolor": "white"
           }
          },
          "shapedefaults": {
           "line": {
            "color": "#2a3f5f"
           }
          },
          "ternary": {
           "aaxis": {
            "gridcolor": "white",
            "linecolor": "white",
            "ticks": ""
           },
           "baxis": {
            "gridcolor": "white",
            "linecolor": "white",
            "ticks": ""
           },
           "bgcolor": "#E5ECF6",
           "caxis": {
            "gridcolor": "white",
            "linecolor": "white",
            "ticks": ""
           }
          },
          "title": {
           "x": 0.05
          },
          "xaxis": {
           "automargin": true,
           "gridcolor": "white",
           "linecolor": "white",
           "ticks": "",
           "title": {
            "standoff": 15
           },
           "zerolinecolor": "white",
           "zerolinewidth": 2
          },
          "yaxis": {
           "automargin": true,
           "gridcolor": "white",
           "linecolor": "white",
           "ticks": "",
           "title": {
            "standoff": 15
           },
           "zerolinecolor": "white",
           "zerolinewidth": 2
          }
         }
        },
        "width": 800,
        "xaxis": {
         "anchor": "y",
         "domain": [
          0,
          1
         ],
         "title": {
          "text": "Average Response Latency (s)"
         }
        },
        "yaxis": {
         "anchor": "x",
         "categoryarray": [
          "OpenAI o3",
          "OpenAI o3-mini",
          "OpenAI gpt-4.1",
          "OpenAI gpt-3.5-turbo"
         ],
         "categoryorder": "array",
         "domain": [
          0,
          1
         ],
         "title": {
          "text": "Model"
         }
        }
       }
      }
     },
     "metadata": {},
     "output_type": "display_data"
    }
   ],
   "source": [
    "import plotly.express as px\n",
    "\n",
    "from src.ttt import ttt_evaluator\n",
    "\n",
    "\n",
    "def eval_colors(values: set[str]) -> list[tuple[str, str]]:\n",
    "    good = [\"BEST_MOVE\", \"GOOD_MOVE\", \"NOT_EVALUATED\"]\n",
    "    good = [x for x in good if x in values]\n",
    "    bad = [x for x in values if x not in good]\n",
    "    result: list[tuple[str, str]] = []\n",
    "    name_to_value = {e.name: e.value for e in ttt_evaluator.TttEvaluation}\n",
    "    for labels, colors in [\n",
    "        (good, [\"#0000ff\", \"#2F94FF\"]),\n",
    "        # (bad, px.colors.sequential.Oranges[::2]),\n",
    "        (bad, px.colors.diverging.RdYlGn),\n",
    "    ]:\n",
    "        print(labels)\n",
    "        assert len(labels) <= len(colors), f\"Need more colors for {labels}, {colors=}\"\n",
    "        labels.sort(key=lambda label: name_to_value[label], reverse=True)\n",
    "        for label, color in zip(labels, colors):\n",
    "            result.append((label, color))\n",
    "    return result\n",
    "\n",
    "\n",
    "def plotly_chart(df: pd.DataFrame):\n",
    "    unique_evals = set(df[\"eval\"])\n",
    "    values, colors = zip(*eval_colors(unique_evals))\n",
    "    df_count = df.groupby([\"eval\", \"ai_model\"]).size().reset_index(name=\"count\")\n",
    "    model_sort = [\"OpenAI gpt-3.5-turbo\", \"OpenAI gpt-4.1\",\"OpenAI o3-mini\", \"OpenAI o3\"]\n",
    "    fig = px.bar(\n",
    "        df_count,\n",
    "        x=\"count\",\n",
    "        y=\"ai_model\",\n",
    "        color=\"eval\",\n",
    "        orientation=\"h\",\n",
    "        category_orders={\n",
    "            \"eval\": values,\n",
    "            \"ai_model\": model_sort,\n",
    "        },\n",
    "        color_discrete_map={a: b for a, b in zip(values, colors)},\n",
    "        width=800,\n",
    "        height=330,\n",
    "        labels={\n",
    "            \"eval\": \"Move Evaluation Legend:\",\n",
    "            \"ai_model\": \"Model\",\n",
    "            \"count\": \"# Tic-tac-toe Positions Queried\",\n",
    "        },\n",
    "    )\n",
    "    fig.update_layout(\n",
    "        plot_bgcolor=\"white\",\n",
    "        paper_bgcolor=\"white\",\n",
    "        xaxis=dict(showgrid=False),\n",
    "        yaxis=dict(showgrid=False),\n",
    "    )\n",
    "    fig.show()\n",
    "\n",
    "    # Time taken to solve.\n",
    "    df_mean = df.groupby([\"ai_model\"])[\"duration_ms\"].mean().reset_index()\n",
    "    df_mean[\"Duration\"] = df_mean[\"duration_ms\"] / 1000\n",
    "    fig = px.bar(\n",
    "        df_mean,\n",
    "        y=\"ai_model\",\n",
    "        x=\"Duration\",\n",
    "        orientation=\"h\",\n",
    "        category_orders={\n",
    "            \"ai_model\": model_sort,\n",
    "        },\n",
    "        labels={\n",
    "            \"ai_model\": \"Model\",\n",
    "            \"Duration\": \"Average Response Latency (s)\",\n",
    "        },\n",
    "        width=800,\n",
    "        height=320,\n",
    "    )\n",
    "    fig.update_layout(\n",
    "        bargap=0.6,\n",
    "        plot_bgcolor=\"lightgray\",\n",
    "        paper_bgcolor=\"white\",\n",
    "        # xaxis=dict(showgrid=False),\n",
    "        # yaxis=dict(showgrid=False),\n",
    "    )\n",
    "    fig.update_traces(marker_color=\"gray\")\n",
    "    fig.show()\n",
    "\n",
    "\n",
    "plotly_chart(_DF)"
   ]
  },
  {
   "cell_type": "code",
   "execution_count": 4,
   "id": "d992c45c",
   "metadata": {},
   "outputs": [
    {
     "data": {
      "text/html": [
       "<div>\n",
       "<style scoped>\n",
       "    .dataframe tbody tr th:only-of-type {\n",
       "        vertical-align: middle;\n",
       "    }\n",
       "\n",
       "    .dataframe tbody tr th {\n",
       "        vertical-align: top;\n",
       "    }\n",
       "\n",
       "    .dataframe thead th {\n",
       "        text-align: right;\n",
       "    }\n",
       "</style>\n",
       "<table border=\"1\" class=\"dataframe\">\n",
       "  <thead>\n",
       "    <tr style=\"text-align: right;\">\n",
       "      <th></th>\n",
       "      <th>timestamp</th>\n",
       "      <th>board</th>\n",
       "      <th>error</th>\n",
       "      <th>ai_model</th>\n",
       "      <th>ai_whose_move</th>\n",
       "      <th>ai_move</th>\n",
       "      <th>duration_ms</th>\n",
       "      <th>move_num</th>\n",
       "      <th>eval</th>\n",
       "      <th>eval_comment</th>\n",
       "    </tr>\n",
       "  </thead>\n",
       "  <tbody>\n",
       "  </tbody>\n",
       "</table>\n",
       "</div>"
      ],
      "text/plain": [
       "Empty DataFrame\n",
       "Columns: [timestamp, board, error, ai_model, ai_whose_move, ai_move, duration_ms, move_num, eval, eval_comment]\n",
       "Index: []"
      ]
     },
     "execution_count": 4,
     "metadata": {},
     "output_type": "execute_result"
    }
   ],
   "source": [
    "_DF[_DF['eval'] == 'WRONG_PLAYER']"
   ]
  },
  {
   "cell_type": "code",
   "execution_count": null,
   "id": "8f10882d",
   "metadata": {},
   "outputs": [],
   "source": []
  }
 ],
 "metadata": {
  "kernelspec": {
   "display_name": "venv",
   "language": "python",
   "name": "python3"
  },
  "language_info": {
   "codemirror_mode": {
    "name": "ipython",
    "version": 3
   },
   "file_extension": ".py",
   "mimetype": "text/x-python",
   "name": "python",
   "nbconvert_exporter": "python",
   "pygments_lexer": "ipython3",
   "version": "3.13.7"
  }
 },
 "nbformat": 4,
 "nbformat_minor": 5
}
