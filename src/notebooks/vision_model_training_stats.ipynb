{
 "cells": [
  {
   "cell_type": "code",
   "execution_count": 1,
   "id": "6afc455e",
   "metadata": {},
   "outputs": [],
   "source": [
    "import pathlib\n",
    "import sys\n",
    "\n",
    "def _add_src_to_path():\n",
    "    src_path = str(pathlib.Path.cwd().parent.parent)\n",
    "    if src_path not in sys.path:\n",
    "        # sys.path.insert(0, str(pathlib.Path.cwd().parent.parent))\n",
    "        sys.path.append(str(pathlib.Path.cwd().parent.parent))\n",
    "\n",
    "_add_src_to_path()"
   ]
  },
  {
   "cell_type": "code",
   "execution_count": 7,
   "id": "c1abca07",
   "metadata": {},
   "outputs": [
    {
     "name": "stdout",
     "output_type": "stream",
     "text": [
      "Model: cnnv3\n",
      "  Training Time Per Epoch: 77.01s\n",
      "  Board Accuracy: 0.995\n",
      "  Size: 9.67 MB\n",
      "Model: cnnv2\n",
      "  Training Time Per Epoch: 63.80s\n",
      "  Board Accuracy: 0.990625\n",
      "  Size: 4.16 MB\n",
      "Model: cnnv1\n",
      "  Training Time Per Epoch: 94.39s\n",
      "  Board Accuracy: 0.995625\n",
      "  Size: 49.98 MB\n"
     ]
    },
    {
     "data": {
      "application/vnd.plotly.v1+json": {
       "config": {
        "plotlyServerURL": "https://plot.ly"
       },
       "data": [
        {
         "hovertemplate": "model=cnnv3<br>epoch=%{x}<br>accuracy=%{y}<extra></extra>",
         "legendgroup": "cnnv3",
         "line": {
          "color": "#636efa",
          "dash": "solid"
         },
         "marker": {
          "symbol": "circle"
         },
         "mode": "lines",
         "name": "cnnv3",
         "orientation": "v",
         "showlegend": true,
         "type": "scatter",
         "x": {
          "bdata": "AAECAwQFBgcICQoLDA0ODxAREhMUFRYXGBkaGxwdHh8gISIjJCUmJygpKissLS4vMDEyMzQ1Njc4OTo7PD0+P0BBQkNERUZHSElKS0xNTk9QUVJTVFVWV1hZWltcXV5fYGFiYw==",
          "dtype": "i1"
         },
         "xaxis": "x",
         "y": {
          "bdata": "pHA9CtejuD89CtejcD26P9ejcD0K18E/SOF6FK5HzT+F61G4HoXcPz0K16NwPeM/SOF6FK7H5j9mZmZmZuboP9ejcD0KV+s/hetRuB4F7T8pXI/C9SjtP6RwPQrXI+4/4XoUrkdh7j8zMzMzM7PuP4XrUbgeBe8/hetRuB4F7z8K16NwPQrvP65H4XoULu8/9ihcj8L17j9cj8L1KFzvPxSuR+F6lO8/16NwPQpX7z+PwvUoXI/vP/YoXI/Cde8/MzMzMzOz7z+amZmZmZnvPwAAAAAAgO8/mpmZmZmZ7z8pXI/C9ajvP4XrUbgehe8/H4XrUbie7z8fhetRuJ7vPz0K16Nwve8/PQrXo3C97z/D9Shcj8LvP5qZmZmZme8/9ihcj8J17z8AAAAAAIDvPx+F61G4nu8/zczMzMzM7z+uR+F6FK7vPx+F61G4nu8/rkfhehSu7z+kcD0K16PvP83MzMzMzO8/PQrXo3C97z+4HoXrUbjvPzMzMzMzs+8/PQrXo3C97z/D9Shcj8LvP2ZmZmZm5u8/SOF6FK7H7z8pXI/C9ajvP4/C9Shcj+8/PQrXo3C97z/D9Shcj8LvPzMzMzMzs+8/rkfhehSu7z9SuB6F69HvPzMzMzMzs+8/uB6F61G47z/Xo3A9CtfvP7gehetRuO8/PQrXo3C97z9cj8L1KNzvPz0K16Nwve8/w/UoXI/C7z9cj8L1KNzvP1K4HoXr0e8/16NwPQrX7z/NzMzMzMzvP3E9Ctej8O8/ZmZmZmbm7z/hehSuR+HvP+F6FK5H4e8/zczMzMzM7z/Xo3A9CtfvP+F6FK5H4e8/zczMzMzM7z/Xo3A9CtfvP1yPwvUo3O8/UrgehevR7z9mZmZmZubvP9ejcD0K1+8/XI/C9Sjc7z9cj8L1KNzvP+F6FK5H4e8/ZmZmZmbm7z/hehSuR+HvP1yPwvUo3O8/4XoUrkfh7z9cj8L1KNzvP0jhehSux+8/ZmZmZmbm7z/hehSuR+HvP2ZmZmZm5u8/XI/C9Sjc7z/hehSuR+HvP+xRuB6F6+8/16NwPQrX7z8=",
          "dtype": "f8"
         },
         "yaxis": "y"
        },
        {
         "hovertemplate": "model=cnnv2<br>epoch=%{x}<br>accuracy=%{y}<extra></extra>",
         "legendgroup": "cnnv2",
         "line": {
          "color": "#EF553B",
          "dash": "solid"
         },
         "marker": {
          "symbol": "circle"
         },
         "mode": "lines",
         "name": "cnnv2",
         "orientation": "v",
         "showlegend": true,
         "type": "scatter",
         "x": {
          "bdata": "AAECAwQFBgcICQoLDA0ODxAREhMUFRYXGBkaGxwdHh8gISIjJCUmJygpKissLS4vMDEyMzQ1Njc4OTo7PD0+P0BBQkNERUZHSElKS0xNTk9QUVJTVFVWV1hZWltcXV5fYGFiYw==",
          "dtype": "i1"
         },
         "xaxis": "x",
         "y": {
          "bdata": "16NwPQrXtz8zMzMzMzO7P/YoXI/C9bw/9ihcj8L1wD/Xo3A9CtfFP1K4HoXrUcg/j8L1KFyP0D8K16NwPQrXP2ZmZmZmZt4/9ihcj8L14T9cj8L1KNzjP+xRuB6Fa+U/w/UoXI/C5j8UrkfhehToP9ejcD0K1+g/ZmZmZmZm6j9cj8L1KFzqP2ZmZmZmZus/SOF6FK7H6z8fhetRuJ7sP65H4XoUruw/zczMzMxM7T+uR+F6FK7tP8P1KFyPwu0/CtejcD0K7j8AAAAAAIDuP83MzMzMTO4/4XoUrkdh7j/Xo3A9CtfuP/YoXI/C9e4/hetRuB4F7z8AAAAAAADvP5qZmZmZGe8/AAAAAAAA7z/Xo3A9ClfvP9ejcD0KV+8/KVyPwvUo7z/hehSuR2HvP83MzMzMTO8/16NwPQpX7z/hehSuR2HvP4XrUbgehe8/ZmZmZmZm7z97FK5H4XrvPwrXo3A9iu8/PQrXo3C97z+kcD0K16PvP4XrUbgehe8/KVyPwvWo7z+uR+F6FK7vP6RwPQrXo+8/uB6F61G47z8K16NwPYrvP4/C9Shcj+8/rkfhehSu7z8fhetRuJ7vP5qZmZmZme8/MzMzMzOz7z+4HoXrUbjvPylcj8L1qO8/pHA9Ctej7z/D9Shcj8LvP7gehetRuO8/H4XrUbie7z9I4XoUrsfvP65H4XoUru8/w/UoXI/C7z+4HoXrUbjvP0jhehSux+8/MzMzMzOz7z8pXI/C9ajvPz0K16Nwve8/SOF6FK7H7z9cj8L1KNzvP1K4HoXr0e8/SOF6FK7H7z/D9Shcj8LvPylcj8L1qO8/H4XrUbie7z+kcD0K16PvP65H4XoUru8/ZmZmZmbm7z8pXI/C9ajvP0jhehSux+8/rkfhehSu7z/D9Shcj8LvP83MzMzMzO8/pHA9Ctej7z9I4XoUrsfvP8P1KFyPwu8/zczMzMzM7z9cj8L1KNzvP7gehetRuO8/w/UoXI/C7z/NzMzMzMzvP1yPwvUo3O8/4XoUrkfh7z+4HoXrUbjvPz0K16Nwve8/MzMzMzOz7z8=",
          "dtype": "f8"
         },
         "yaxis": "y"
        },
        {
         "hovertemplate": "model=cnnv1<br>epoch=%{x}<br>accuracy=%{y}<extra></extra>",
         "legendgroup": "cnnv1",
         "line": {
          "color": "#00cc96",
          "dash": "solid"
         },
         "marker": {
          "symbol": "circle"
         },
         "mode": "lines",
         "name": "cnnv1",
         "orientation": "v",
         "showlegend": true,
         "type": "scatter",
         "x": {
          "bdata": "AAECAwQFBgcICQoLDA0ODxAREhMUFRYXGBkaGxwdHh8gISIjJCUmJygpKissLS4vMDEyMzQ1Njc4OTo7PD0+P0BBQkNERUZHSElKS0xNTk9QUVJTVFVWV1hZWltcXV5fYGFiYw==",
          "dtype": "i1"
         },
         "xaxis": "x",
         "y": {
          "bdata": "j8L1KFyPtj+amZmZmZnBP8P1KFyPwss/SOF6FK5H3D9cj8L1KNzjPzMzMzMzs+c/9ihcj8L16j8zMzMzM7PsP9ejcD0K1+0/H4XrUbie7j9xPQrXo/DuP4/C9ShcD+8/4XoUrkdh7z9SuB6F61HvP6RwPQrXo+8/H4XrUbie7z+4HoXrUbjvP4XrUbgehe8/KVyPwvWo7z89CtejcL3vP8P1KFyPwu8/rkfhehSu7z8pXI/C9ajvP65H4XoUru8/uB6F61G47z/D9Shcj8LvP7gehetRuO8/SOF6FK7H7z89CtejcL3vP9ejcD0K1+8/MzMzMzOz7z+uR+F6FK7vP1K4HoXr0e8/PQrXo3C97z89CtejcL3vP83MzMzMzO8/SOF6FK7H7z9SuB6F69HvPzMzMzMzs+8/PQrXo3C97z9mZmZmZubvP3E9Ctej8O8/PQrXo3C97z9I4XoUrsfvP8P1KFyPwu8/16NwPQrX7z9cj8L1KNzvP+F6FK5H4e8/16NwPQrX7z/D9Shcj8LvP65H4XoUru8/zczMzMzM7z+uR+F6FK7vP83MzMzMzO8/PQrXo3C97z/D9Shcj8LvP83MzMzMzO8/MzMzMzOz7z89CtejcL3vP3E9Ctej8O8/ZmZmZmbm7z/NzMzMzMzvPz0K16Nwve8/H4XrUbie7z+uR+F6FK7vPz0K16Nwve8/zczMzMzM7z/sUbgehevvP+F6FK5H4e8/7FG4HoXr7z/Xo3A9CtfvP+xRuB6F6+8/AAAAAAAA8D9I4XoUrsfvP+F6FK5H4e8/7FG4HoXr7z9I4XoUrsfvP3E9Ctej8O8/SOF6FK7H7z9SuB6F69HvP/YoXI/C9e8/exSuR+H67z/Xo3A9CtfvP2ZmZmZm5u8/zczMzMzM7z97FK5H4frvP+F6FK5H4e8/XI/C9Sjc7z9cj8L1KNzvP/YoXI/C9e8/XI/C9Sjc7z9cj8L1KNzvP1yPwvUo3O8/UrgehevR7z9mZmZmZubvP/YoXI/C9e8/16NwPQrX7z/hehSuR+HvP0jhehSux+8/XI/C9Sjc7z8=",
          "dtype": "f8"
         },
         "yaxis": "y"
        }
       ],
       "layout": {
        "legend": {
         "title": {
          "text": "model"
         },
         "tracegroupgap": 0
        },
        "margin": {
         "t": 60
        },
        "template": {
         "data": {
          "bar": [
           {
            "error_x": {
             "color": "#2a3f5f"
            },
            "error_y": {
             "color": "#2a3f5f"
            },
            "marker": {
             "line": {
              "color": "#E5ECF6",
              "width": 0.5
             },
             "pattern": {
              "fillmode": "overlay",
              "size": 10,
              "solidity": 0.2
             }
            },
            "type": "bar"
           }
          ],
          "barpolar": [
           {
            "marker": {
             "line": {
              "color": "#E5ECF6",
              "width": 0.5
             },
             "pattern": {
              "fillmode": "overlay",
              "size": 10,
              "solidity": 0.2
             }
            },
            "type": "barpolar"
           }
          ],
          "carpet": [
           {
            "aaxis": {
             "endlinecolor": "#2a3f5f",
             "gridcolor": "white",
             "linecolor": "white",
             "minorgridcolor": "white",
             "startlinecolor": "#2a3f5f"
            },
            "baxis": {
             "endlinecolor": "#2a3f5f",
             "gridcolor": "white",
             "linecolor": "white",
             "minorgridcolor": "white",
             "startlinecolor": "#2a3f5f"
            },
            "type": "carpet"
           }
          ],
          "choropleth": [
           {
            "colorbar": {
             "outlinewidth": 0,
             "ticks": ""
            },
            "type": "choropleth"
           }
          ],
          "contour": [
           {
            "colorbar": {
             "outlinewidth": 0,
             "ticks": ""
            },
            "colorscale": [
             [
              0,
              "#0d0887"
             ],
             [
              0.1111111111111111,
              "#46039f"
             ],
             [
              0.2222222222222222,
              "#7201a8"
             ],
             [
              0.3333333333333333,
              "#9c179e"
             ],
             [
              0.4444444444444444,
              "#bd3786"
             ],
             [
              0.5555555555555556,
              "#d8576b"
             ],
             [
              0.6666666666666666,
              "#ed7953"
             ],
             [
              0.7777777777777778,
              "#fb9f3a"
             ],
             [
              0.8888888888888888,
              "#fdca26"
             ],
             [
              1,
              "#f0f921"
             ]
            ],
            "type": "contour"
           }
          ],
          "contourcarpet": [
           {
            "colorbar": {
             "outlinewidth": 0,
             "ticks": ""
            },
            "type": "contourcarpet"
           }
          ],
          "heatmap": [
           {
            "colorbar": {
             "outlinewidth": 0,
             "ticks": ""
            },
            "colorscale": [
             [
              0,
              "#0d0887"
             ],
             [
              0.1111111111111111,
              "#46039f"
             ],
             [
              0.2222222222222222,
              "#7201a8"
             ],
             [
              0.3333333333333333,
              "#9c179e"
             ],
             [
              0.4444444444444444,
              "#bd3786"
             ],
             [
              0.5555555555555556,
              "#d8576b"
             ],
             [
              0.6666666666666666,
              "#ed7953"
             ],
             [
              0.7777777777777778,
              "#fb9f3a"
             ],
             [
              0.8888888888888888,
              "#fdca26"
             ],
             [
              1,
              "#f0f921"
             ]
            ],
            "type": "heatmap"
           }
          ],
          "histogram": [
           {
            "marker": {
             "pattern": {
              "fillmode": "overlay",
              "size": 10,
              "solidity": 0.2
             }
            },
            "type": "histogram"
           }
          ],
          "histogram2d": [
           {
            "colorbar": {
             "outlinewidth": 0,
             "ticks": ""
            },
            "colorscale": [
             [
              0,
              "#0d0887"
             ],
             [
              0.1111111111111111,
              "#46039f"
             ],
             [
              0.2222222222222222,
              "#7201a8"
             ],
             [
              0.3333333333333333,
              "#9c179e"
             ],
             [
              0.4444444444444444,
              "#bd3786"
             ],
             [
              0.5555555555555556,
              "#d8576b"
             ],
             [
              0.6666666666666666,
              "#ed7953"
             ],
             [
              0.7777777777777778,
              "#fb9f3a"
             ],
             [
              0.8888888888888888,
              "#fdca26"
             ],
             [
              1,
              "#f0f921"
             ]
            ],
            "type": "histogram2d"
           }
          ],
          "histogram2dcontour": [
           {
            "colorbar": {
             "outlinewidth": 0,
             "ticks": ""
            },
            "colorscale": [
             [
              0,
              "#0d0887"
             ],
             [
              0.1111111111111111,
              "#46039f"
             ],
             [
              0.2222222222222222,
              "#7201a8"
             ],
             [
              0.3333333333333333,
              "#9c179e"
             ],
             [
              0.4444444444444444,
              "#bd3786"
             ],
             [
              0.5555555555555556,
              "#d8576b"
             ],
             [
              0.6666666666666666,
              "#ed7953"
             ],
             [
              0.7777777777777778,
              "#fb9f3a"
             ],
             [
              0.8888888888888888,
              "#fdca26"
             ],
             [
              1,
              "#f0f921"
             ]
            ],
            "type": "histogram2dcontour"
           }
          ],
          "mesh3d": [
           {
            "colorbar": {
             "outlinewidth": 0,
             "ticks": ""
            },
            "type": "mesh3d"
           }
          ],
          "parcoords": [
           {
            "line": {
             "colorbar": {
              "outlinewidth": 0,
              "ticks": ""
             }
            },
            "type": "parcoords"
           }
          ],
          "pie": [
           {
            "automargin": true,
            "type": "pie"
           }
          ],
          "scatter": [
           {
            "fillpattern": {
             "fillmode": "overlay",
             "size": 10,
             "solidity": 0.2
            },
            "type": "scatter"
           }
          ],
          "scatter3d": [
           {
            "line": {
             "colorbar": {
              "outlinewidth": 0,
              "ticks": ""
             }
            },
            "marker": {
             "colorbar": {
              "outlinewidth": 0,
              "ticks": ""
             }
            },
            "type": "scatter3d"
           }
          ],
          "scattercarpet": [
           {
            "marker": {
             "colorbar": {
              "outlinewidth": 0,
              "ticks": ""
             }
            },
            "type": "scattercarpet"
           }
          ],
          "scattergeo": [
           {
            "marker": {
             "colorbar": {
              "outlinewidth": 0,
              "ticks": ""
             }
            },
            "type": "scattergeo"
           }
          ],
          "scattergl": [
           {
            "marker": {
             "colorbar": {
              "outlinewidth": 0,
              "ticks": ""
             }
            },
            "type": "scattergl"
           }
          ],
          "scattermap": [
           {
            "marker": {
             "colorbar": {
              "outlinewidth": 0,
              "ticks": ""
             }
            },
            "type": "scattermap"
           }
          ],
          "scattermapbox": [
           {
            "marker": {
             "colorbar": {
              "outlinewidth": 0,
              "ticks": ""
             }
            },
            "type": "scattermapbox"
           }
          ],
          "scatterpolar": [
           {
            "marker": {
             "colorbar": {
              "outlinewidth": 0,
              "ticks": ""
             }
            },
            "type": "scatterpolar"
           }
          ],
          "scatterpolargl": [
           {
            "marker": {
             "colorbar": {
              "outlinewidth": 0,
              "ticks": ""
             }
            },
            "type": "scatterpolargl"
           }
          ],
          "scatterternary": [
           {
            "marker": {
             "colorbar": {
              "outlinewidth": 0,
              "ticks": ""
             }
            },
            "type": "scatterternary"
           }
          ],
          "surface": [
           {
            "colorbar": {
             "outlinewidth": 0,
             "ticks": ""
            },
            "colorscale": [
             [
              0,
              "#0d0887"
             ],
             [
              0.1111111111111111,
              "#46039f"
             ],
             [
              0.2222222222222222,
              "#7201a8"
             ],
             [
              0.3333333333333333,
              "#9c179e"
             ],
             [
              0.4444444444444444,
              "#bd3786"
             ],
             [
              0.5555555555555556,
              "#d8576b"
             ],
             [
              0.6666666666666666,
              "#ed7953"
             ],
             [
              0.7777777777777778,
              "#fb9f3a"
             ],
             [
              0.8888888888888888,
              "#fdca26"
             ],
             [
              1,
              "#f0f921"
             ]
            ],
            "type": "surface"
           }
          ],
          "table": [
           {
            "cells": {
             "fill": {
              "color": "#EBF0F8"
             },
             "line": {
              "color": "white"
             }
            },
            "header": {
             "fill": {
              "color": "#C8D4E3"
             },
             "line": {
              "color": "white"
             }
            },
            "type": "table"
           }
          ]
         },
         "layout": {
          "annotationdefaults": {
           "arrowcolor": "#2a3f5f",
           "arrowhead": 0,
           "arrowwidth": 1
          },
          "autotypenumbers": "strict",
          "coloraxis": {
           "colorbar": {
            "outlinewidth": 0,
            "ticks": ""
           }
          },
          "colorscale": {
           "diverging": [
            [
             0,
             "#8e0152"
            ],
            [
             0.1,
             "#c51b7d"
            ],
            [
             0.2,
             "#de77ae"
            ],
            [
             0.3,
             "#f1b6da"
            ],
            [
             0.4,
             "#fde0ef"
            ],
            [
             0.5,
             "#f7f7f7"
            ],
            [
             0.6,
             "#e6f5d0"
            ],
            [
             0.7,
             "#b8e186"
            ],
            [
             0.8,
             "#7fbc41"
            ],
            [
             0.9,
             "#4d9221"
            ],
            [
             1,
             "#276419"
            ]
           ],
           "sequential": [
            [
             0,
             "#0d0887"
            ],
            [
             0.1111111111111111,
             "#46039f"
            ],
            [
             0.2222222222222222,
             "#7201a8"
            ],
            [
             0.3333333333333333,
             "#9c179e"
            ],
            [
             0.4444444444444444,
             "#bd3786"
            ],
            [
             0.5555555555555556,
             "#d8576b"
            ],
            [
             0.6666666666666666,
             "#ed7953"
            ],
            [
             0.7777777777777778,
             "#fb9f3a"
            ],
            [
             0.8888888888888888,
             "#fdca26"
            ],
            [
             1,
             "#f0f921"
            ]
           ],
           "sequentialminus": [
            [
             0,
             "#0d0887"
            ],
            [
             0.1111111111111111,
             "#46039f"
            ],
            [
             0.2222222222222222,
             "#7201a8"
            ],
            [
             0.3333333333333333,
             "#9c179e"
            ],
            [
             0.4444444444444444,
             "#bd3786"
            ],
            [
             0.5555555555555556,
             "#d8576b"
            ],
            [
             0.6666666666666666,
             "#ed7953"
            ],
            [
             0.7777777777777778,
             "#fb9f3a"
            ],
            [
             0.8888888888888888,
             "#fdca26"
            ],
            [
             1,
             "#f0f921"
            ]
           ]
          },
          "colorway": [
           "#636efa",
           "#EF553B",
           "#00cc96",
           "#ab63fa",
           "#FFA15A",
           "#19d3f3",
           "#FF6692",
           "#B6E880",
           "#FF97FF",
           "#FECB52"
          ],
          "font": {
           "color": "#2a3f5f"
          },
          "geo": {
           "bgcolor": "white",
           "lakecolor": "white",
           "landcolor": "#E5ECF6",
           "showlakes": true,
           "showland": true,
           "subunitcolor": "white"
          },
          "hoverlabel": {
           "align": "left"
          },
          "hovermode": "closest",
          "mapbox": {
           "style": "light"
          },
          "paper_bgcolor": "white",
          "plot_bgcolor": "#E5ECF6",
          "polar": {
           "angularaxis": {
            "gridcolor": "white",
            "linecolor": "white",
            "ticks": ""
           },
           "bgcolor": "#E5ECF6",
           "radialaxis": {
            "gridcolor": "white",
            "linecolor": "white",
            "ticks": ""
           }
          },
          "scene": {
           "xaxis": {
            "backgroundcolor": "#E5ECF6",
            "gridcolor": "white",
            "gridwidth": 2,
            "linecolor": "white",
            "showbackground": true,
            "ticks": "",
            "zerolinecolor": "white"
           },
           "yaxis": {
            "backgroundcolor": "#E5ECF6",
            "gridcolor": "white",
            "gridwidth": 2,
            "linecolor": "white",
            "showbackground": true,
            "ticks": "",
            "zerolinecolor": "white"
           },
           "zaxis": {
            "backgroundcolor": "#E5ECF6",
            "gridcolor": "white",
            "gridwidth": 2,
            "linecolor": "white",
            "showbackground": true,
            "ticks": "",
            "zerolinecolor": "white"
           }
          },
          "shapedefaults": {
           "line": {
            "color": "#2a3f5f"
           }
          },
          "ternary": {
           "aaxis": {
            "gridcolor": "white",
            "linecolor": "white",
            "ticks": ""
           },
           "baxis": {
            "gridcolor": "white",
            "linecolor": "white",
            "ticks": ""
           },
           "bgcolor": "#E5ECF6",
           "caxis": {
            "gridcolor": "white",
            "linecolor": "white",
            "ticks": ""
           }
          },
          "title": {
           "x": 0.05
          },
          "xaxis": {
           "automargin": true,
           "gridcolor": "white",
           "linecolor": "white",
           "ticks": "",
           "title": {
            "standoff": 15
           },
           "zerolinecolor": "white",
           "zerolinewidth": 2
          },
          "yaxis": {
           "automargin": true,
           "gridcolor": "white",
           "linecolor": "white",
           "ticks": "",
           "title": {
            "standoff": 15
           },
           "zerolinecolor": "white",
           "zerolinewidth": 2
          }
         }
        },
        "xaxis": {
         "anchor": "y",
         "domain": [
          0,
          1
         ],
         "title": {
          "text": "Epochs"
         }
        },
        "yaxis": {
         "anchor": "x",
         "domain": [
          0,
          1
         ],
         "range": [
          0,
          1
         ],
         "title": {
          "text": "Accuracy"
         }
        }
       }
      }
     },
     "metadata": {},
     "output_type": "display_data"
    },
    {
     "data": {
      "application/vnd.plotly.v1+json": {
       "config": {
        "plotlyServerURL": "https://plot.ly"
       },
       "data": [
        {
         "hovertemplate": "model=cnnv3<br>epoch=%{x}<br>log_loss=%{y}<extra></extra>",
         "legendgroup": "cnnv3",
         "line": {
          "color": "#636efa",
          "dash": "solid"
         },
         "marker": {
          "symbol": "circle"
         },
         "mode": "lines",
         "name": "cnnv3",
         "orientation": "v",
         "showlegend": true,
         "type": "scatter",
         "x": {
          "bdata": "AAECAwQFBgcICQoLDA0ODxAREhMUFRYXGBkaGxwdHh8gISIjJCUmJygpKissLS4vMDEyMzQ1Njc4OTo7PD0+P0BBQkNERUZHSElKS0xNTk9QUVJTVFVWV1hZWltcXV5fYGFiYw==",
          "dtype": "i1"
         },
         "xaxis": "x",
         "y": {
          "bdata": "HP9yOlgLh79JhPKK9vrRv5C9fRRAX+G/fP/hLzdD6b8JPmV6TaPyv7rvBS5+ZPi/vfr3TVEJ/r/sJas1XU0BwOwC5rrnBwTABWhRjAegBsD2lucMw9AHwCsMOXrsswrADe2IdaqUC8B7okly1moMwHdjDgL7jw7A5e1R1n16D8DmIwqdzSoQwGcQy176thDAo0UZofSEEMD6M8IzOlIRwKRXjXNmLxLAjU1+REYEEsA1JjtdvlESwGCLGR3EOBLANEoZjU+LE8Aqj0XFxWoTwEspvyjdhRPAe/4aKc9GE8CsAtYfQw0UwInNaV1fzBPAeQcp+8f8E8CKh8DZxL8UwPytUWHKwBTAqHMiMEXSFMB/XmncX+cVwEm9iZ1M8xPArksuSKNfE8B6MnpzWKwTwJpNv6Es1RPAlvcr7X4yFsDNDtKHoKMUwF/+IfsaaBTAXrrju7NBFcDw86du4uAUwPEjRAoqmxfAni9NX51dFcAo5Yqa9/AVwLPILJCGnxXAJy8Wjr7YFcD6F32TehwWwNdNCm4MGhjAYrIL3En3FsCjgKQo+H4VwDoTCR3eaxTA+R0TKJQrFsB2BV7TpVsWwNa3ZxYQZxbAYow6egNrFcDh4uD3eWwWwFXbrS/kMRbAplit4RbUFcDchBYnaq8XwBZnBWRjLBXALadbeNoiFsAOGJRjO6YXwI3EsYxYsxfAeL1JNXu2FsCbtjSZH9QXwP+cigzTnBfAbStRM+dhGMDyHKdwicgWwKq3IaSTNhvA9JjarG7wGcAkr8vQZPQYwAGUywz/ehnAudLPY2h/GMCJR5IHtYsXwLsDlSHRpRrAT2goYGdVGMBaxwYvZsUXwOvu9NQ8SxnABDJlEwNwF8DAb9J8aMMawBqi/0VcmRnAGGDthiL+GMDScxHmEwEZwN6/208fuxnA90ICNtj6GcCOFbMID0gawDcAjwgxlBnA5O8pRqbIGcCMPWbjLUcawDG4MbeVRBjAs36ogpc8GcCKYgnn1EUZwMBfrsNT2RrAHJwpq3zqGcD/jpmneTkZwAVDBRTs/BrAsDa2gBWrGMA=",
          "dtype": "f8"
         },
         "yaxis": "y"
        },
        {
         "hovertemplate": "model=cnnv2<br>epoch=%{x}<br>log_loss=%{y}<extra></extra>",
         "legendgroup": "cnnv2",
         "line": {
          "color": "#EF553B",
          "dash": "solid"
         },
         "marker": {
          "symbol": "circle"
         },
         "mode": "lines",
         "name": "cnnv2",
         "orientation": "v",
         "showlegend": true,
         "type": "scatter",
         "x": {
          "bdata": "AAECAwQFBgcICQoLDA0ODxAREhMUFRYXGBkaGxwdHh8gISIjJCUmJygpKissLS4vMDEyMzQ1Njc4OTo7PD0+P0BBQkNERUZHSElKS0xNTk9QUVJTVFVWV1hZWltcXV5fYGFiYw==",
          "dtype": "i1"
         },
         "xaxis": "x",
         "y": {
          "bdata": "mrSBVJETn7+Hab4pWuTNv6J1ilSzzNm/AtVCgqAI4b8tQIzRIHjkv6WfY6p+YOa/HXr6AHoN67/RTNndXV/wv/S5CLPf1vK/47svYu539r+2uScMcNX4v4DwT3Bv0vq/7s7a6rWb/b/H71KLLRoAwHmkvSxEwQDAlhyug/dNAsAo7hcKq+ACwFvbrjnsCQTAlmq5u9iqBMD5XBLT9cMFwIJWwQEDjwbAJ/U4kGrHB8AaMdvbemgIwMElrz3gRwnALsggunnJCcCyePnWQdALwI2CUpct3QrAYPuZfP6YC8D20VbnxRgNwBj/sl07mQ3A7+PXy2wvDsCeViS7dYAPwCWKwRtchQ/AD06oR7+CD8Cm0+0y6mAQwKHFgdP5dxDA+1NUMIM/EMB991Yq9g0RwNw4Agr1zhDAvNPbMq8AEcAyfN05G6MRwJU4TDxRpRHAtEp1uF3dEcAaQb+Rs5QRwH6WtGSUVRLAV16zKmIOE8AdQ5/qiSkTwMwsFMhKsRLAQuLKpwlREsAREzItOPESwLYgr/y7ZhPA+HlkfPDBE8D480/mHaITwAV7T94dfRPANWg5O/veE8BzkhPtVq0TwJKD3E5kzxPA8kFxlJdnE8AplHr2LmEUwC7Goxyd0xPADWvoT6zUE8Bvrs2nANoUwNR3QfqgjxTAGygT+D1XFMBP5Orgi3wUwADhKjLkZhTA6D9w/HgNFcAy25hXJQQVwORfxbQFfxbAe+03JUkNFcDtjrZm3xkUwJotrd1tcxTAIR4SVlKJFcAiDHUyol8WwHPgc5Q36RbAju3tfvXEFcCseKdLBy8VwAxH+ziwOhTAGRCEdkuIFMD0CrPbwiwUwLkrG14R8BTAEH7mcwwVF8CeYgv0xWcVwLPAILlqhhXA6lc+cvViFMCfsxLp0pEVwMfevNW2jxbAaUOLX9M1FMCMp6hMpV4VwHkKfrEXHhbAfaq9VbEBF8A++iJkLKgVwFFKCfQX2RXA8OQpsQfFFcAxmlXcM0cWwMOCkbKyMBfAzwtBnzreF8DTGN9jnj4VwIdiKkrCahXAMQJWWS8vFsA=",
          "dtype": "f8"
         },
         "yaxis": "y"
        },
        {
         "hovertemplate": "model=cnnv1<br>epoch=%{x}<br>log_loss=%{y}<extra></extra>",
         "legendgroup": "cnnv1",
         "line": {
          "color": "#00cc96",
          "dash": "solid"
         },
         "marker": {
          "symbol": "circle"
         },
         "mode": "lines",
         "name": "cnnv1",
         "orientation": "v",
         "showlegend": true,
         "type": "scatter",
         "x": {
          "bdata": "AAECAwQFBgcICQoLDA0ODxAREhMUFRYXGBkaGxwdHh8gISIjJCUmJygpKissLS4vMDEyMzQ1Njc4OTo7PD0+P0BBQkNERUZHSElKS0xNTk9QUVJTVFVWV1hZWltcXV5fYGFiYw==",
          "dtype": "i1"
         },
         "xaxis": "x",
         "y": {
          "bdata": "cDZQtPFour/t84ssqKHbvyZUt+TnKue/Nf/yRPWU8r8u6icJRzH5v3trGQC9lv+/mq59urGDA8CunRfdMEkGwLff3jIK9QjAqOGSCRApDMBDWCDSjIcNwAE0B4HJmw7ADFcQ+zEmEMDRZCECJBsRwBDTGOuufhLA3jk5brjPEsCQpdSKFBATwE5XRzknrhLABKoanaGXE8AYPrttpYIUwMPj9ai2YRXAvQKNZLagE8AreUwuca0TwFfxfNkPShTA4NVEwVyyFMDzKATj9pQUwPlGfoxz4hTA2/RvfP35FcD8Zf7R7GoVwBEbgDWQ4xXAssCbR3E/FcDvOcjP7yAVwEt6yQAI0hbAW7W4E1W+FcB9ghDIcxgVwFPW3ef8PRbAH5g0KIW+FsDKsCMev14WwARVn5q0jxXAA5vlKczeFcCCzZ825ngYwEiQUwFx2xfAoWuGmj10F8BYrO2OpAkYwMC2kSVu7RXAmKQpPaqIF8ALD1KSbG8YwPA9D9JoJhfAGy3/h4LdGMDnZcyKsJIVwDmtigmjLhXAyf/GrrLBFsCxJ527QFQVwPo5V7fgZxfAaD9fUzYMFsD8R+Mxj5QWwFlwIfmy9xfAxG692rioFcBdjKDxRh8WwNSmMOo02hjAMzStfGUuF8DllCqYmNIWwJhmpK/YSBbAO+wJTcPjFMDlc+wpjz8WwDrR3q5qnRjABolXkGyVF8A25dCY8YEYwH8gNUe6nBnA//wRDmULGsC3zMKli8cYwJx8hB8lGhzA350MHs+QHsAHbjCOoSIXwASH79Pi9xnAQnZHcmz5GcAPC1sfs/UXwJVGrRgRlxrAYWrzQcakFsCXZjV3ZLwYwECbCC9tuRvAnlfKUijHH8C8cvNoaC0YwFnNc7UBkRzAfXEY1xfeGMC+jSychUofwEx/YKsd5xrA66si1d/ZGMCXfqwlwggYwD482P2WThzAjBHGag0RGsDP0Ka6rkUZwLC6Gt16GRnAUPFr6Vd0F8ByO0hef04awHWdH7TjcB3ANZuyCy2tGsDOlK50JYcZwNIyD+OTKRnABx82i4RJGMA=",
          "dtype": "f8"
         },
         "yaxis": "y"
        }
       ],
       "layout": {
        "legend": {
         "title": {
          "text": "model"
         },
         "tracegroupgap": 0
        },
        "margin": {
         "t": 60
        },
        "template": {
         "data": {
          "bar": [
           {
            "error_x": {
             "color": "#2a3f5f"
            },
            "error_y": {
             "color": "#2a3f5f"
            },
            "marker": {
             "line": {
              "color": "#E5ECF6",
              "width": 0.5
             },
             "pattern": {
              "fillmode": "overlay",
              "size": 10,
              "solidity": 0.2
             }
            },
            "type": "bar"
           }
          ],
          "barpolar": [
           {
            "marker": {
             "line": {
              "color": "#E5ECF6",
              "width": 0.5
             },
             "pattern": {
              "fillmode": "overlay",
              "size": 10,
              "solidity": 0.2
             }
            },
            "type": "barpolar"
           }
          ],
          "carpet": [
           {
            "aaxis": {
             "endlinecolor": "#2a3f5f",
             "gridcolor": "white",
             "linecolor": "white",
             "minorgridcolor": "white",
             "startlinecolor": "#2a3f5f"
            },
            "baxis": {
             "endlinecolor": "#2a3f5f",
             "gridcolor": "white",
             "linecolor": "white",
             "minorgridcolor": "white",
             "startlinecolor": "#2a3f5f"
            },
            "type": "carpet"
           }
          ],
          "choropleth": [
           {
            "colorbar": {
             "outlinewidth": 0,
             "ticks": ""
            },
            "type": "choropleth"
           }
          ],
          "contour": [
           {
            "colorbar": {
             "outlinewidth": 0,
             "ticks": ""
            },
            "colorscale": [
             [
              0,
              "#0d0887"
             ],
             [
              0.1111111111111111,
              "#46039f"
             ],
             [
              0.2222222222222222,
              "#7201a8"
             ],
             [
              0.3333333333333333,
              "#9c179e"
             ],
             [
              0.4444444444444444,
              "#bd3786"
             ],
             [
              0.5555555555555556,
              "#d8576b"
             ],
             [
              0.6666666666666666,
              "#ed7953"
             ],
             [
              0.7777777777777778,
              "#fb9f3a"
             ],
             [
              0.8888888888888888,
              "#fdca26"
             ],
             [
              1,
              "#f0f921"
             ]
            ],
            "type": "contour"
           }
          ],
          "contourcarpet": [
           {
            "colorbar": {
             "outlinewidth": 0,
             "ticks": ""
            },
            "type": "contourcarpet"
           }
          ],
          "heatmap": [
           {
            "colorbar": {
             "outlinewidth": 0,
             "ticks": ""
            },
            "colorscale": [
             [
              0,
              "#0d0887"
             ],
             [
              0.1111111111111111,
              "#46039f"
             ],
             [
              0.2222222222222222,
              "#7201a8"
             ],
             [
              0.3333333333333333,
              "#9c179e"
             ],
             [
              0.4444444444444444,
              "#bd3786"
             ],
             [
              0.5555555555555556,
              "#d8576b"
             ],
             [
              0.6666666666666666,
              "#ed7953"
             ],
             [
              0.7777777777777778,
              "#fb9f3a"
             ],
             [
              0.8888888888888888,
              "#fdca26"
             ],
             [
              1,
              "#f0f921"
             ]
            ],
            "type": "heatmap"
           }
          ],
          "histogram": [
           {
            "marker": {
             "pattern": {
              "fillmode": "overlay",
              "size": 10,
              "solidity": 0.2
             }
            },
            "type": "histogram"
           }
          ],
          "histogram2d": [
           {
            "colorbar": {
             "outlinewidth": 0,
             "ticks": ""
            },
            "colorscale": [
             [
              0,
              "#0d0887"
             ],
             [
              0.1111111111111111,
              "#46039f"
             ],
             [
              0.2222222222222222,
              "#7201a8"
             ],
             [
              0.3333333333333333,
              "#9c179e"
             ],
             [
              0.4444444444444444,
              "#bd3786"
             ],
             [
              0.5555555555555556,
              "#d8576b"
             ],
             [
              0.6666666666666666,
              "#ed7953"
             ],
             [
              0.7777777777777778,
              "#fb9f3a"
             ],
             [
              0.8888888888888888,
              "#fdca26"
             ],
             [
              1,
              "#f0f921"
             ]
            ],
            "type": "histogram2d"
           }
          ],
          "histogram2dcontour": [
           {
            "colorbar": {
             "outlinewidth": 0,
             "ticks": ""
            },
            "colorscale": [
             [
              0,
              "#0d0887"
             ],
             [
              0.1111111111111111,
              "#46039f"
             ],
             [
              0.2222222222222222,
              "#7201a8"
             ],
             [
              0.3333333333333333,
              "#9c179e"
             ],
             [
              0.4444444444444444,
              "#bd3786"
             ],
             [
              0.5555555555555556,
              "#d8576b"
             ],
             [
              0.6666666666666666,
              "#ed7953"
             ],
             [
              0.7777777777777778,
              "#fb9f3a"
             ],
             [
              0.8888888888888888,
              "#fdca26"
             ],
             [
              1,
              "#f0f921"
             ]
            ],
            "type": "histogram2dcontour"
           }
          ],
          "mesh3d": [
           {
            "colorbar": {
             "outlinewidth": 0,
             "ticks": ""
            },
            "type": "mesh3d"
           }
          ],
          "parcoords": [
           {
            "line": {
             "colorbar": {
              "outlinewidth": 0,
              "ticks": ""
             }
            },
            "type": "parcoords"
           }
          ],
          "pie": [
           {
            "automargin": true,
            "type": "pie"
           }
          ],
          "scatter": [
           {
            "fillpattern": {
             "fillmode": "overlay",
             "size": 10,
             "solidity": 0.2
            },
            "type": "scatter"
           }
          ],
          "scatter3d": [
           {
            "line": {
             "colorbar": {
              "outlinewidth": 0,
              "ticks": ""
             }
            },
            "marker": {
             "colorbar": {
              "outlinewidth": 0,
              "ticks": ""
             }
            },
            "type": "scatter3d"
           }
          ],
          "scattercarpet": [
           {
            "marker": {
             "colorbar": {
              "outlinewidth": 0,
              "ticks": ""
             }
            },
            "type": "scattercarpet"
           }
          ],
          "scattergeo": [
           {
            "marker": {
             "colorbar": {
              "outlinewidth": 0,
              "ticks": ""
             }
            },
            "type": "scattergeo"
           }
          ],
          "scattergl": [
           {
            "marker": {
             "colorbar": {
              "outlinewidth": 0,
              "ticks": ""
             }
            },
            "type": "scattergl"
           }
          ],
          "scattermap": [
           {
            "marker": {
             "colorbar": {
              "outlinewidth": 0,
              "ticks": ""
             }
            },
            "type": "scattermap"
           }
          ],
          "scattermapbox": [
           {
            "marker": {
             "colorbar": {
              "outlinewidth": 0,
              "ticks": ""
             }
            },
            "type": "scattermapbox"
           }
          ],
          "scatterpolar": [
           {
            "marker": {
             "colorbar": {
              "outlinewidth": 0,
              "ticks": ""
             }
            },
            "type": "scatterpolar"
           }
          ],
          "scatterpolargl": [
           {
            "marker": {
             "colorbar": {
              "outlinewidth": 0,
              "ticks": ""
             }
            },
            "type": "scatterpolargl"
           }
          ],
          "scatterternary": [
           {
            "marker": {
             "colorbar": {
              "outlinewidth": 0,
              "ticks": ""
             }
            },
            "type": "scatterternary"
           }
          ],
          "surface": [
           {
            "colorbar": {
             "outlinewidth": 0,
             "ticks": ""
            },
            "colorscale": [
             [
              0,
              "#0d0887"
             ],
             [
              0.1111111111111111,
              "#46039f"
             ],
             [
              0.2222222222222222,
              "#7201a8"
             ],
             [
              0.3333333333333333,
              "#9c179e"
             ],
             [
              0.4444444444444444,
              "#bd3786"
             ],
             [
              0.5555555555555556,
              "#d8576b"
             ],
             [
              0.6666666666666666,
              "#ed7953"
             ],
             [
              0.7777777777777778,
              "#fb9f3a"
             ],
             [
              0.8888888888888888,
              "#fdca26"
             ],
             [
              1,
              "#f0f921"
             ]
            ],
            "type": "surface"
           }
          ],
          "table": [
           {
            "cells": {
             "fill": {
              "color": "#EBF0F8"
             },
             "line": {
              "color": "white"
             }
            },
            "header": {
             "fill": {
              "color": "#C8D4E3"
             },
             "line": {
              "color": "white"
             }
            },
            "type": "table"
           }
          ]
         },
         "layout": {
          "annotationdefaults": {
           "arrowcolor": "#2a3f5f",
           "arrowhead": 0,
           "arrowwidth": 1
          },
          "autotypenumbers": "strict",
          "coloraxis": {
           "colorbar": {
            "outlinewidth": 0,
            "ticks": ""
           }
          },
          "colorscale": {
           "diverging": [
            [
             0,
             "#8e0152"
            ],
            [
             0.1,
             "#c51b7d"
            ],
            [
             0.2,
             "#de77ae"
            ],
            [
             0.3,
             "#f1b6da"
            ],
            [
             0.4,
             "#fde0ef"
            ],
            [
             0.5,
             "#f7f7f7"
            ],
            [
             0.6,
             "#e6f5d0"
            ],
            [
             0.7,
             "#b8e186"
            ],
            [
             0.8,
             "#7fbc41"
            ],
            [
             0.9,
             "#4d9221"
            ],
            [
             1,
             "#276419"
            ]
           ],
           "sequential": [
            [
             0,
             "#0d0887"
            ],
            [
             0.1111111111111111,
             "#46039f"
            ],
            [
             0.2222222222222222,
             "#7201a8"
            ],
            [
             0.3333333333333333,
             "#9c179e"
            ],
            [
             0.4444444444444444,
             "#bd3786"
            ],
            [
             0.5555555555555556,
             "#d8576b"
            ],
            [
             0.6666666666666666,
             "#ed7953"
            ],
            [
             0.7777777777777778,
             "#fb9f3a"
            ],
            [
             0.8888888888888888,
             "#fdca26"
            ],
            [
             1,
             "#f0f921"
            ]
           ],
           "sequentialminus": [
            [
             0,
             "#0d0887"
            ],
            [
             0.1111111111111111,
             "#46039f"
            ],
            [
             0.2222222222222222,
             "#7201a8"
            ],
            [
             0.3333333333333333,
             "#9c179e"
            ],
            [
             0.4444444444444444,
             "#bd3786"
            ],
            [
             0.5555555555555556,
             "#d8576b"
            ],
            [
             0.6666666666666666,
             "#ed7953"
            ],
            [
             0.7777777777777778,
             "#fb9f3a"
            ],
            [
             0.8888888888888888,
             "#fdca26"
            ],
            [
             1,
             "#f0f921"
            ]
           ]
          },
          "colorway": [
           "#636efa",
           "#EF553B",
           "#00cc96",
           "#ab63fa",
           "#FFA15A",
           "#19d3f3",
           "#FF6692",
           "#B6E880",
           "#FF97FF",
           "#FECB52"
          ],
          "font": {
           "color": "#2a3f5f"
          },
          "geo": {
           "bgcolor": "white",
           "lakecolor": "white",
           "landcolor": "#E5ECF6",
           "showlakes": true,
           "showland": true,
           "subunitcolor": "white"
          },
          "hoverlabel": {
           "align": "left"
          },
          "hovermode": "closest",
          "mapbox": {
           "style": "light"
          },
          "paper_bgcolor": "white",
          "plot_bgcolor": "#E5ECF6",
          "polar": {
           "angularaxis": {
            "gridcolor": "white",
            "linecolor": "white",
            "ticks": ""
           },
           "bgcolor": "#E5ECF6",
           "radialaxis": {
            "gridcolor": "white",
            "linecolor": "white",
            "ticks": ""
           }
          },
          "scene": {
           "xaxis": {
            "backgroundcolor": "#E5ECF6",
            "gridcolor": "white",
            "gridwidth": 2,
            "linecolor": "white",
            "showbackground": true,
            "ticks": "",
            "zerolinecolor": "white"
           },
           "yaxis": {
            "backgroundcolor": "#E5ECF6",
            "gridcolor": "white",
            "gridwidth": 2,
            "linecolor": "white",
            "showbackground": true,
            "ticks": "",
            "zerolinecolor": "white"
           },
           "zaxis": {
            "backgroundcolor": "#E5ECF6",
            "gridcolor": "white",
            "gridwidth": 2,
            "linecolor": "white",
            "showbackground": true,
            "ticks": "",
            "zerolinecolor": "white"
           }
          },
          "shapedefaults": {
           "line": {
            "color": "#2a3f5f"
           }
          },
          "ternary": {
           "aaxis": {
            "gridcolor": "white",
            "linecolor": "white",
            "ticks": ""
           },
           "baxis": {
            "gridcolor": "white",
            "linecolor": "white",
            "ticks": ""
           },
           "bgcolor": "#E5ECF6",
           "caxis": {
            "gridcolor": "white",
            "linecolor": "white",
            "ticks": ""
           }
          },
          "title": {
           "x": 0.05
          },
          "xaxis": {
           "automargin": true,
           "gridcolor": "white",
           "linecolor": "white",
           "ticks": "",
           "title": {
            "standoff": 15
           },
           "zerolinecolor": "white",
           "zerolinewidth": 2
          },
          "yaxis": {
           "automargin": true,
           "gridcolor": "white",
           "linecolor": "white",
           "ticks": "",
           "title": {
            "standoff": 15
           },
           "zerolinecolor": "white",
           "zerolinewidth": 2
          }
         }
        },
        "xaxis": {
         "anchor": "y",
         "domain": [
          0,
          1
         ],
         "title": {
          "text": "epoch"
         }
        },
        "yaxis": {
         "anchor": "x",
         "domain": [
          0,
          1
         ],
         "title": {
          "text": "log_loss"
         }
        }
       }
      }
     },
     "metadata": {},
     "output_type": "display_data"
    }
   ],
   "source": [
    "import math\n",
    "import pathlib\n",
    "\n",
    "import pandas as pd\n",
    "import plotly.express as px\n",
    "\n",
    "from src.utils import torch_utils\n",
    "from src.vision.models import registry\n",
    "from src.vision.models import train_model\n",
    "\n",
    "# import importlib\n",
    "# importlib.reload(train_model)\n",
    "\n",
    "\n",
    "def chart_model(model_names: list[str]):\n",
    "    list_of_data = []\n",
    "    for model_name in model_names:\n",
    "        print(f\"Model: {model_name}\")\n",
    "        stats_file = pathlib.Path(\"../../_data\") / \"vision\" / f\"_stats_{model_name}.json\"\n",
    "        with open(stats_file, \"r\") as f:\n",
    "            epochs = train_model.EpochStatsList.model_validate_json(f.read()).root\n",
    "            list_of_data.append({\n",
    "                \"model\": model_name,\n",
    "                \"epoch\": range(len(epochs)),\n",
    "                \"accuracy\": [epoch.correct_boards / epoch.total_boards for epoch in epochs],\n",
    "                \"log_loss\": [math.log(epoch.loss) for epoch in epochs],\n",
    "            })\n",
    "        print(f\"  Training Time Per Epoch: {sum(epoch.duration for epoch in epochs) / len(epochs):.2f}s\")\n",
    "        print(f\"  Board Accuracy: {epochs[-1].correct_boards / epochs[-1].total_boards}\")\n",
    "        print(f\"  Size: {torch_utils.get_model_size(registry.get_model(model_name)).size_in_mb:.2f} MB\")\n",
    "    df = pd.concat([pd.DataFrame(data) for data in list_of_data])\n",
    "    # Accuracy chart.\n",
    "    fig = px.line(df, x='epoch', y='accuracy', color='model')\n",
    "    fig.update_layout(\n",
    "        yaxis=dict(range=[0, 1]), xaxis_title=\"Epochs\", yaxis_title=\"Accuracy\",\n",
    "    )\n",
    "    fig.show()\n",
    "    # Loss chart.\n",
    "    fig = px.line(df, x='epoch', y='log_loss', color='model')\n",
    "    fig.show()\n",
    "\n",
    "\n",
    "chart_model([\"cnnv3\", \"cnnv2\", \"cnnv1\"])\n",
    "# chart_model([\"cnnv3\"])"
   ]
  },
  {
   "cell_type": "code",
   "execution_count": null,
   "id": "e27b0e1f",
   "metadata": {},
   "outputs": [],
   "source": []
  }
 ],
 "metadata": {
  "kernelspec": {
   "display_name": "venv",
   "language": "python",
   "name": "python3"
  },
  "language_info": {
   "codemirror_mode": {
    "name": "ipython",
    "version": 3
   },
   "file_extension": ".py",
   "mimetype": "text/x-python",
   "name": "python",
   "nbconvert_exporter": "python",
   "pygments_lexer": "ipython3",
   "version": "3.13.7"
  }
 },
 "nbformat": 4,
 "nbformat_minor": 5
}
