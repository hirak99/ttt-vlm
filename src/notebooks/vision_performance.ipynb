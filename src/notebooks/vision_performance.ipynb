{
 "cells": [
  {
   "cell_type": "code",
   "execution_count": 1,
   "id": "0f2a0ff3",
   "metadata": {},
   "outputs": [],
   "source": [
    "import pathlib\n",
    "import sys\n",
    "\n",
    "def _add_src_to_path():\n",
    "    src_path = str(pathlib.Path.cwd().parent.parent)\n",
    "    if src_path not in sys.path:\n",
    "        # sys.path.insert(0, str(pathlib.Path.cwd().parent.parent))\n",
    "        sys.path.append(str(pathlib.Path.cwd().parent.parent))\n",
    "\n",
    "_add_src_to_path()"
   ]
  },
  {
   "cell_type": "code",
   "execution_count": 5,
   "id": "c00d726e",
   "metadata": {},
   "outputs": [
    {
     "name": "stdout",
     "output_type": "stream",
     "text": [
      "[\"X\", \"O\", \"\", \"O\", \"X\", \"\", \"O\", \"X\", \"X\"]"
     ]
    },
    {
     "name": "stderr",
     "output_type": "stream",
     "text": [
      "\n"
     ]
    }
   ],
   "source": [
    "from src.ttt import board_draw\n",
    "from src.ttt import ttt_board\n",
    "from src.llm_service import vision\n",
    "\n",
    "_PROMPT = \"\"\"\n",
    "Please identify this tic-tac-toe position.\n",
    "\n",
    "You must output a valid json of the form -\n",
    "[CELL_1, CELL_2, ..., CELL_9]\n",
    "\n",
    "It should have the 9 cells.\n",
    "Each CELL_i can be ether \"X\", \"O\", or \"\".\n",
    "Do not output anything else.\n",
    "\"\"\"\n",
    "\n",
    "def evaluate():\n",
    "    image = board_draw.to_image(ttt_board.BoardState.from_array(\"XO.OX.OXX\").as_array())\n",
    "    instance = vision.OpenAiVision()\n",
    "    instance.do_prompt(_PROMPT, max_tokens=1024, image_b64=vision.to_base64(image))\n",
    "\n",
    "evaluate()"
   ]
  },
  {
   "cell_type": "code",
   "execution_count": null,
   "id": "c6e775e4",
   "metadata": {},
   "outputs": [],
   "source": []
  }
 ],
 "metadata": {
  "kernelspec": {
   "display_name": "venv",
   "language": "python",
   "name": "python3"
  },
  "language_info": {
   "codemirror_mode": {
    "name": "ipython",
    "version": 3
   },
   "file_extension": ".py",
   "mimetype": "text/x-python",
   "name": "python",
   "nbconvert_exporter": "python",
   "pygments_lexer": "ipython3",
   "version": "3.13.5"
  }
 },
 "nbformat": 4,
 "nbformat_minor": 5
}
