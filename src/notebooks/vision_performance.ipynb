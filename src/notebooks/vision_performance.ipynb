{
 "cells": [
  {
   "cell_type": "code",
   "execution_count": 1,
   "id": "0f2a0ff3",
   "metadata": {},
   "outputs": [],
   "source": [
    "import pathlib\n",
    "import sys\n",
    "\n",
    "\n",
    "def _add_src_to_path():\n",
    "    src_path = str(pathlib.Path.cwd().parent.parent)\n",
    "    if src_path not in sys.path:\n",
    "        # sys.path.insert(0, str(pathlib.Path.cwd().parent.parent))\n",
    "        sys.path.append(str(pathlib.Path.cwd().parent.parent))\n",
    "\n",
    "\n",
    "_add_src_to_path()"
   ]
  },
  {
   "cell_type": "code",
   "execution_count": 2,
   "id": "ef29da0e",
   "metadata": {},
   "outputs": [
    {
     "data": {
      "text/plain": [
       "['X', '.', '.', '.', 'O', 'X', '.', 'O', '.']"
      ]
     },
     "execution_count": 2,
     "metadata": {},
     "output_type": "execute_result"
    }
   ],
   "source": [
    "from src.experiments import board_utils\n",
    "\n",
    "board_utils.random_board().as_array()"
   ]
  },
  {
   "cell_type": "code",
   "execution_count": 3,
   "id": "0a09708c",
   "metadata": {},
   "outputs": [],
   "source": [
    "from src.ttt import board_draw\n",
    "\n",
    "import importlib\n",
    "\n",
    "importlib.reload(board_draw)\n",
    "\n",
    "\n",
    "def test_image():\n",
    "    board = board_utils.random_board()\n",
    "    render_params = board_draw.RenderParams.random()\n",
    "    return board_draw.to_image(board.as_array(), render_params)\n",
    "\n",
    "\n",
    "# test_image()"
   ]
  },
  {
   "cell_type": "code",
   "execution_count": null,
   "id": "53a5b577",
   "metadata": {},
   "outputs": [],
   "source": [
    "from src.experiments import vision_performance\n",
    "\n",
    "import importlib\n",
    "importlib.reload(vision_performance)\n",
    "\n",
    "vision_performance.test_random_board()"
   ]
  },
  {
   "cell_type": "code",
   "execution_count": null,
   "id": "c6e775e4",
   "metadata": {},
   "outputs": [],
   "source": []
  }
 ],
 "metadata": {
  "kernelspec": {
   "display_name": "venv",
   "language": "python",
   "name": "python3"
  },
  "language_info": {
   "codemirror_mode": {
    "name": "ipython",
    "version": 3
   },
   "file_extension": ".py",
   "mimetype": "text/x-python",
   "name": "python",
   "nbconvert_exporter": "python",
   "pygments_lexer": "ipython3",
   "version": "3.13.7"
  }
 },
 "nbformat": 4,
 "nbformat_minor": 5
}
