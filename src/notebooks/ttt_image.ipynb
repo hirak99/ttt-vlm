{
 "cells": [
  {
   "cell_type": "code",
   "execution_count": 1,
   "id": "5d0b4bb0",
   "metadata": {},
   "outputs": [],
   "source": [
    "import pathlib\n",
    "import sys\n",
    "\n",
    "def _add_src_to_path():\n",
    "    src_path = str(pathlib.Path.cwd().parent.parent)\n",
    "    if src_path not in sys.path:\n",
    "        # sys.path.insert(0, str(pathlib.Path.cwd().parent.parent))\n",
    "        sys.path.append(str(pathlib.Path.cwd().parent.parent))\n",
    "\n",
    "_add_src_to_path()"
   ]
  },
  {
   "cell_type": "code",
   "execution_count": 27,
   "id": "531eb48c",
   "metadata": {},
   "outputs": [
    {
     "data": {
      "text/plain": [
       "<module 'src.ttt.board_draw' from '/home/arnab/arnab_home/git/wip/tic-tac-toe-llm/src/ttt/board_draw.py'>"
      ]
     },
     "execution_count": 27,
     "metadata": {},
     "output_type": "execute_result"
    }
   ],
   "source": [
    "from src.ttt import ttt_board\n",
    "from src.ttt import board_draw\n",
    "\n",
    "# Reload the baord_draw library as we work on it.\n",
    "import importlib\n",
    "importlib.reload(board_draw)"
   ]
  },
  {
   "cell_type": "code",
   "execution_count": null,
   "id": "8b2b7616",
   "metadata": {},
   "outputs": [],
   "source": [
    "def test():\n",
    "    render_params = board_draw.RenderParams.random(42)\n",
    "    renderer = board_draw.BoardRenderer(render_params)\n",
    "    return renderer.render_board(ttt_board.BoardState.from_array(\"..X|OX.|O..\").as_array())\n",
    "\n",
    "test()"
   ]
  },
  {
   "cell_type": "code",
   "execution_count": null,
   "id": "63c6b0c6",
   "metadata": {},
   "outputs": [],
   "source": []
  }
 ],
 "metadata": {
  "kernelspec": {
   "display_name": "venv",
   "language": "python",
   "name": "python3"
  },
  "language_info": {
   "codemirror_mode": {
    "name": "ipython",
    "version": 3
   },
   "file_extension": ".py",
   "mimetype": "text/x-python",
   "name": "python",
   "nbconvert_exporter": "python",
   "pygments_lexer": "ipython3",
   "version": "3.13.7"
  }
 },
 "nbformat": 4,
 "nbformat_minor": 5
}
